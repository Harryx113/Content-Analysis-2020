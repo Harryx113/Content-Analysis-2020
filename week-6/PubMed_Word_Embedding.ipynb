{
 "cells": [
  {
   "cell_type": "markdown",
   "metadata": {},
   "source": [
    "# Vector Space Word Embeddings on PubMed Psychology Abstract  \n",
    "## Harry Xiong  \n",
    "### Abstracts of NIH PubMed articles on psychology, behavioral science in multiple years (mainly 2019) and neural science are extracted. Data source: https://www.nlm.nih.gov/databases/download/pubmed_medline.html"
   ]
  },
  {
   "cell_type": "code",
   "execution_count": 1,
   "metadata": {},
   "outputs": [],
   "source": [
    "#All these packages need to be installed from pip\n",
    "import gensim#For word2vec, etc\n",
    "import requests #For downloading our datasets\n",
    "import lucem_illud_2020\n",
    "\n",
    "import numpy as np #For arrays\n",
    "import pandas #Gives us DataFrames\n",
    "import matplotlib.pyplot as plt #For graphics\n",
    "import seaborn #Makes the graphics look nicer\n",
    "import sklearn.metrics.pairwise #For cosine similarity\n",
    "import sklearn.manifold #For T-SNE\n",
    "import sklearn.decomposition #For PCA\n",
    "\n",
    "#This 'magic' command makes the plots work better\n",
    "#in the notebook, don't use it outside of a notebook.\n",
    "#Also you can ignore the warning\n",
    "%matplotlib inline\n",
    "\n",
    "import os #For looking through files\n",
    "import os.path #For managing file paths"
   ]
  },
  {
   "cell_type": "code",
   "execution_count": 2,
   "metadata": {},
   "outputs": [],
   "source": [
    "#!pip install --user git+http://github.com/titipata/pubmed_parser.git\n",
    "import pubmed_parser as pp\n",
    "import nltk\n",
    "from nltk.corpus import stopwords\n",
    "import re\n",
    "import pandas as pd"
   ]
  },
  {
   "cell_type": "code",
   "execution_count": 3,
   "metadata": {},
   "outputs": [],
   "source": [
    "#newest file downloaded from PubMed website\n",
    "#pubmed20n1014.xml.gz\n",
    "filename = 'pubmed20n1014.xml.gz'"
   ]
  },
  {
   "cell_type": "code",
   "execution_count": 4,
   "metadata": {},
   "outputs": [],
   "source": [
    "# filtering criteria: psyc-related abstract\n",
    "psych_keywords = ['psych', 'behavior', 'neur']\n",
    "\n",
    "def isPsych(abstract, keywords):\n",
    "    return any(word in abstract for word in keywords)"
   ]
  },
  {
   "cell_type": "code",
   "execution_count": 5,
   "metadata": {},
   "outputs": [],
   "source": [
    "pubmed_parsed = pp.parse_medline_xml(\"./\" + 'pubmed20n1014.xml.gz')"
   ]
  },
  {
   "cell_type": "code",
   "execution_count": 6,
   "metadata": {},
   "outputs": [
    {
     "data": {
      "text/html": [
       "<div>\n",
       "<style scoped>\n",
       "    .dataframe tbody tr th:only-of-type {\n",
       "        vertical-align: middle;\n",
       "    }\n",
       "\n",
       "    .dataframe tbody tr th {\n",
       "        vertical-align: top;\n",
       "    }\n",
       "\n",
       "    .dataframe thead th {\n",
       "        text-align: right;\n",
       "    }\n",
       "</style>\n",
       "<table border=\"1\" class=\"dataframe\">\n",
       "  <thead>\n",
       "    <tr style=\"text-align: right;\">\n",
       "      <th></th>\n",
       "      <th>title</th>\n",
       "      <th>abstract</th>\n",
       "      <th>journal</th>\n",
       "      <th>authors</th>\n",
       "      <th>pubdate</th>\n",
       "      <th>pmid</th>\n",
       "      <th>mesh_terms</th>\n",
       "      <th>publication_types</th>\n",
       "      <th>chemical_list</th>\n",
       "      <th>keywords</th>\n",
       "      <th>doi</th>\n",
       "      <th>references</th>\n",
       "      <th>delete</th>\n",
       "      <th>affiliations</th>\n",
       "      <th>pmc</th>\n",
       "      <th>other_id</th>\n",
       "      <th>medline_ta</th>\n",
       "      <th>nlm_unique_id</th>\n",
       "      <th>issn_linking</th>\n",
       "      <th>country</th>\n",
       "    </tr>\n",
       "  </thead>\n",
       "  <tbody>\n",
       "    <tr>\n",
       "      <td>0</td>\n",
       "      <td>Peer Feedback: A Tool for Growth.</td>\n",
       "      <td>Feedback is a necessary and important part of ...</td>\n",
       "      <td>The Journal of nursing administration</td>\n",
       "      <td>MM Lal</td>\n",
       "      <td>2020</td>\n",
       "      <td>31809449</td>\n",
       "      <td></td>\n",
       "      <td>D016428:Journal Article</td>\n",
       "      <td></td>\n",
       "      <td></td>\n",
       "      <td>10.1097/NNA.0000000000000829</td>\n",
       "      <td></td>\n",
       "      <td>False</td>\n",
       "      <td>Author Affiliation: Director, Magnet Recogniti...</td>\n",
       "      <td></td>\n",
       "      <td></td>\n",
       "      <td>J Nurs Adm</td>\n",
       "      <td>1263116</td>\n",
       "      <td>0002-0443</td>\n",
       "      <td>United States</td>\n",
       "    </tr>\n",
       "    <tr>\n",
       "      <td>1</td>\n",
       "      <td>Standardizing Multidisciplinary Rounds: Creati...</td>\n",
       "      <td>OBJECTIVE\\nTo describe the impact of a standar...</td>\n",
       "      <td>The Journal of nursing administration</td>\n",
       "      <td>L Brown;V Saini;C Carter</td>\n",
       "      <td>2020</td>\n",
       "      <td>31809450</td>\n",
       "      <td></td>\n",
       "      <td>D016428:Journal Article</td>\n",
       "      <td></td>\n",
       "      <td></td>\n",
       "      <td>10.1097/NNA.0000000000000830</td>\n",
       "      <td></td>\n",
       "      <td>False</td>\n",
       "      <td>Author Affiliations: Clinical Support Nurse (M...</td>\n",
       "      <td></td>\n",
       "      <td></td>\n",
       "      <td>J Nurs Adm</td>\n",
       "      <td>1263116</td>\n",
       "      <td>0002-0443</td>\n",
       "      <td>United States</td>\n",
       "    </tr>\n",
       "    <tr>\n",
       "      <td>2</td>\n",
       "      <td>Next-Generation Staffing Models: Are You Ready...</td>\n",
       "      <td>Despite Health Resources and Services Administ...</td>\n",
       "      <td>The Journal of nursing administration</td>\n",
       "      <td>C Boston-Fleischhauer</td>\n",
       "      <td>2020</td>\n",
       "      <td>31809451</td>\n",
       "      <td></td>\n",
       "      <td>D016428:Journal Article</td>\n",
       "      <td></td>\n",
       "      <td></td>\n",
       "      <td>10.1097/NNA.0000000000000831</td>\n",
       "      <td></td>\n",
       "      <td>False</td>\n",
       "      <td>Author Affiliation: Managing Director and Chie...</td>\n",
       "      <td></td>\n",
       "      <td></td>\n",
       "      <td>J Nurs Adm</td>\n",
       "      <td>1263116</td>\n",
       "      <td>0002-0443</td>\n",
       "      <td>United States</td>\n",
       "    </tr>\n",
       "    <tr>\n",
       "      <td>3</td>\n",
       "      <td>The Creation of an Interprofessional Evidence-...</td>\n",
       "      <td>Evidence-based practice (EBP), communication, ...</td>\n",
       "      <td>The Journal of nursing administration</td>\n",
       "      <td>D Copeland;K Miller;C Clanton</td>\n",
       "      <td>2020</td>\n",
       "      <td>31809452</td>\n",
       "      <td></td>\n",
       "      <td>D016428:Journal Article</td>\n",
       "      <td></td>\n",
       "      <td></td>\n",
       "      <td>10.1097/NNA.0000000000000832</td>\n",
       "      <td></td>\n",
       "      <td>False</td>\n",
       "      <td>Author Affiliations: Assistant Professor, Adul...</td>\n",
       "      <td></td>\n",
       "      <td></td>\n",
       "      <td>J Nurs Adm</td>\n",
       "      <td>1263116</td>\n",
       "      <td>0002-0443</td>\n",
       "      <td>United States</td>\n",
       "    </tr>\n",
       "    <tr>\n",
       "      <td>4</td>\n",
       "      <td>DNP Practice Improvement Initiative: Staff Nur...</td>\n",
       "      <td>This article describes a practice improvement ...</td>\n",
       "      <td>The Journal of nursing administration</td>\n",
       "      <td>K Tharp-Barrie;TE Williams;PB Howard;P El-Mall...</td>\n",
       "      <td>2020</td>\n",
       "      <td>31809453</td>\n",
       "      <td></td>\n",
       "      <td>D016428:Journal Article</td>\n",
       "      <td></td>\n",
       "      <td></td>\n",
       "      <td>10.1097/NNA.0000000000000834</td>\n",
       "      <td></td>\n",
       "      <td>False</td>\n",
       "      <td>Author Affiliations: System Vice President for...</td>\n",
       "      <td></td>\n",
       "      <td></td>\n",
       "      <td>J Nurs Adm</td>\n",
       "      <td>1263116</td>\n",
       "      <td>0002-0443</td>\n",
       "      <td>United States</td>\n",
       "    </tr>\n",
       "  </tbody>\n",
       "</table>\n",
       "</div>"
      ],
      "text/plain": [
       "                                               title  \\\n",
       "0                  Peer Feedback: A Tool for Growth.   \n",
       "1  Standardizing Multidisciplinary Rounds: Creati...   \n",
       "2  Next-Generation Staffing Models: Are You Ready...   \n",
       "3  The Creation of an Interprofessional Evidence-...   \n",
       "4  DNP Practice Improvement Initiative: Staff Nur...   \n",
       "\n",
       "                                            abstract  \\\n",
       "0  Feedback is a necessary and important part of ...   \n",
       "1  OBJECTIVE\\nTo describe the impact of a standar...   \n",
       "2  Despite Health Resources and Services Administ...   \n",
       "3  Evidence-based practice (EBP), communication, ...   \n",
       "4  This article describes a practice improvement ...   \n",
       "\n",
       "                                 journal  \\\n",
       "0  The Journal of nursing administration   \n",
       "1  The Journal of nursing administration   \n",
       "2  The Journal of nursing administration   \n",
       "3  The Journal of nursing administration   \n",
       "4  The Journal of nursing administration   \n",
       "\n",
       "                                             authors pubdate      pmid  \\\n",
       "0                                             MM Lal    2020  31809449   \n",
       "1                           L Brown;V Saini;C Carter    2020  31809450   \n",
       "2                              C Boston-Fleischhauer    2020  31809451   \n",
       "3                      D Copeland;K Miller;C Clanton    2020  31809452   \n",
       "4  K Tharp-Barrie;TE Williams;PB Howard;P El-Mall...    2020  31809453   \n",
       "\n",
       "  mesh_terms        publication_types chemical_list keywords  \\\n",
       "0             D016428:Journal Article                          \n",
       "1             D016428:Journal Article                          \n",
       "2             D016428:Journal Article                          \n",
       "3             D016428:Journal Article                          \n",
       "4             D016428:Journal Article                          \n",
       "\n",
       "                            doi references  delete  \\\n",
       "0  10.1097/NNA.0000000000000829              False   \n",
       "1  10.1097/NNA.0000000000000830              False   \n",
       "2  10.1097/NNA.0000000000000831              False   \n",
       "3  10.1097/NNA.0000000000000832              False   \n",
       "4  10.1097/NNA.0000000000000834              False   \n",
       "\n",
       "                                        affiliations pmc other_id  medline_ta  \\\n",
       "0  Author Affiliation: Director, Magnet Recogniti...               J Nurs Adm   \n",
       "1  Author Affiliations: Clinical Support Nurse (M...               J Nurs Adm   \n",
       "2  Author Affiliation: Managing Director and Chie...               J Nurs Adm   \n",
       "3  Author Affiliations: Assistant Professor, Adul...               J Nurs Adm   \n",
       "4  Author Affiliations: System Vice President for...               J Nurs Adm   \n",
       "\n",
       "  nlm_unique_id issn_linking        country  \n",
       "0       1263116    0002-0443  United States  \n",
       "1       1263116    0002-0443  United States  \n",
       "2       1263116    0002-0443  United States  \n",
       "3       1263116    0002-0443  United States  \n",
       "4       1263116    0002-0443  United States  "
      ]
     },
     "execution_count": 6,
     "metadata": {},
     "output_type": "execute_result"
    }
   ],
   "source": [
    "pubmed_df = pd.DataFrame(pubmed_parsed)\n",
    "pubmed_df.head(5)"
   ]
  },
  {
   "cell_type": "code",
   "execution_count": 7,
   "metadata": {},
   "outputs": [
    {
     "data": {
      "text/html": [
       "<div>\n",
       "<style scoped>\n",
       "    .dataframe tbody tr th:only-of-type {\n",
       "        vertical-align: middle;\n",
       "    }\n",
       "\n",
       "    .dataframe tbody tr th {\n",
       "        vertical-align: top;\n",
       "    }\n",
       "\n",
       "    .dataframe thead th {\n",
       "        text-align: right;\n",
       "    }\n",
       "</style>\n",
       "<table border=\"1\" class=\"dataframe\">\n",
       "  <thead>\n",
       "    <tr style=\"text-align: right;\">\n",
       "      <th></th>\n",
       "      <th>flag_psych</th>\n",
       "    </tr>\n",
       "  </thead>\n",
       "  <tbody>\n",
       "    <tr>\n",
       "      <td>0</td>\n",
       "      <td>False</td>\n",
       "    </tr>\n",
       "    <tr>\n",
       "      <td>1</td>\n",
       "      <td>False</td>\n",
       "    </tr>\n",
       "    <tr>\n",
       "      <td>2</td>\n",
       "      <td>False</td>\n",
       "    </tr>\n",
       "    <tr>\n",
       "      <td>3</td>\n",
       "      <td>False</td>\n",
       "    </tr>\n",
       "    <tr>\n",
       "      <td>4</td>\n",
       "      <td>False</td>\n",
       "    </tr>\n",
       "  </tbody>\n",
       "</table>\n",
       "</div>"
      ],
      "text/plain": [
       "  flag_psych\n",
       "0      False\n",
       "1      False\n",
       "2      False\n",
       "3      False\n",
       "4      False"
      ]
     },
     "execution_count": 7,
     "metadata": {},
     "output_type": "execute_result"
    }
   ],
   "source": [
    "pubmed_norm = pd.DataFrame(index=pubmed_df.index, columns=['flag_psych'], dtype=object)\n",
    "for row in pubmed_df.itertuples():\n",
    "    #flag pschology articles\n",
    "    pubmed_norm.at[row.Index, 'flag_psych'] = isPsych(row.abstract + row.title, psych_keywords)\n",
    "pubmed_norm.head(5)"
   ]
  },
  {
   "cell_type": "code",
   "execution_count": 8,
   "metadata": {},
   "outputs": [],
   "source": [
    "pubmed_full = pd.concat([pubmed_df, pubmed_norm], axis = 1)"
   ]
  },
  {
   "cell_type": "code",
   "execution_count": 9,
   "metadata": {},
   "outputs": [],
   "source": [
    "# extract the psych-related abstracts\n",
    "pubmed_psyc = pubmed_full[pubmed_full['flag_psych']].reset_index()"
   ]
  },
  {
   "cell_type": "code",
   "execution_count": 10,
   "metadata": {},
   "outputs": [
    {
     "data": {
      "text/html": [
       "<div>\n",
       "<style scoped>\n",
       "    .dataframe tbody tr th:only-of-type {\n",
       "        vertical-align: middle;\n",
       "    }\n",
       "\n",
       "    .dataframe tbody tr th {\n",
       "        vertical-align: top;\n",
       "    }\n",
       "\n",
       "    .dataframe thead th {\n",
       "        text-align: right;\n",
       "    }\n",
       "</style>\n",
       "<table border=\"1\" class=\"dataframe\">\n",
       "  <thead>\n",
       "    <tr style=\"text-align: right;\">\n",
       "      <th></th>\n",
       "      <th>index</th>\n",
       "      <th>title</th>\n",
       "      <th>abstract</th>\n",
       "      <th>journal</th>\n",
       "      <th>authors</th>\n",
       "      <th>pubdate</th>\n",
       "      <th>pmid</th>\n",
       "      <th>mesh_terms</th>\n",
       "      <th>publication_types</th>\n",
       "      <th>chemical_list</th>\n",
       "      <th>...</th>\n",
       "      <th>affiliations</th>\n",
       "      <th>pmc</th>\n",
       "      <th>other_id</th>\n",
       "      <th>medline_ta</th>\n",
       "      <th>nlm_unique_id</th>\n",
       "      <th>issn_linking</th>\n",
       "      <th>country</th>\n",
       "      <th>flag_psych</th>\n",
       "      <th>tokenized_sents</th>\n",
       "      <th>normalized_sents</th>\n",
       "    </tr>\n",
       "  </thead>\n",
       "  <tbody>\n",
       "    <tr>\n",
       "      <td>0</td>\n",
       "      <td>8</td>\n",
       "      <td>Is Performing Repetitions to Failure Less Impo...</td>\n",
       "      <td>Lacerda, LT, Marra-Lopes, RO, Diniz, RCR, Lima...</td>\n",
       "      <td>Journal of strength and conditioning research</td>\n",
       "      <td>LT Lacerda;RO Marra-Lopes;RCR Diniz;FV Lima;SA...</td>\n",
       "      <td>2019</td>\n",
       "      <td>31809457</td>\n",
       "      <td></td>\n",
       "      <td>D016428:Journal Article</td>\n",
       "      <td></td>\n",
       "      <td>...</td>\n",
       "      <td>Weight Training Laboratory, School of Physical...</td>\n",
       "      <td></td>\n",
       "      <td></td>\n",
       "      <td>J Strength Cond Res</td>\n",
       "      <td>9415084</td>\n",
       "      <td>1064-8011</td>\n",
       "      <td>United States</td>\n",
       "      <td>True</td>\n",
       "      <td>[[Lacerda, LT, Marra, Lopes, RO, Diniz, RCR, L...</td>\n",
       "      <td>[[lacerda, lt, marra, lopes, ro, diniz, rcr, l...</td>\n",
       "    </tr>\n",
       "    <tr>\n",
       "      <td>10</td>\n",
       "      <td>46</td>\n",
       "      <td>Modulators of hormonal response regulate tempo...</td>\n",
       "      <td>Neuronal diversity is at the core of the compl...</td>\n",
       "      <td>PLoS genetics</td>\n",
       "      <td>G Marchetti;G Tavosanis</td>\n",
       "      <td>2019</td>\n",
       "      <td>31809495</td>\n",
       "      <td></td>\n",
       "      <td>D016428:Journal Article</td>\n",
       "      <td></td>\n",
       "      <td>...</td>\n",
       "      <td>Dynamics of neuronal circuits, German Center f...</td>\n",
       "      <td></td>\n",
       "      <td></td>\n",
       "      <td>PLoS Genet</td>\n",
       "      <td>101239074</td>\n",
       "      <td>1553-7390</td>\n",
       "      <td>United States</td>\n",
       "      <td>True</td>\n",
       "      <td>[[Neuronal, diversity, is, at, the, core, of, ...</td>\n",
       "      <td>[[neuronal, diversity, core, complex, processi...</td>\n",
       "    </tr>\n",
       "    <tr>\n",
       "      <td>20</td>\n",
       "      <td>122</td>\n",
       "      <td>Ubiquitination can change the structure of the...</td>\n",
       "      <td>The formation of toxic amyloid aggregates is a...</td>\n",
       "      <td>The Journal of organic chemistry</td>\n",
       "      <td>SP Moon;AT Balana;A Galesic;A Rakshit;MR Pratt</td>\n",
       "      <td>2019</td>\n",
       "      <td>31809571</td>\n",
       "      <td></td>\n",
       "      <td>D016428:Journal Article</td>\n",
       "      <td></td>\n",
       "      <td>...</td>\n",
       "      <td></td>\n",
       "      <td></td>\n",
       "      <td></td>\n",
       "      <td>J Org Chem</td>\n",
       "      <td>2985193R</td>\n",
       "      <td>0022-3263</td>\n",
       "      <td>United States</td>\n",
       "      <td>True</td>\n",
       "      <td>[[The, formation, of, toxic, amyloid, aggregat...</td>\n",
       "      <td>[[formation, toxic, amyloid, aggregates, commo...</td>\n",
       "    </tr>\n",
       "    <tr>\n",
       "      <td>30</td>\n",
       "      <td>191</td>\n",
       "      <td>Decision-making and cash spending patterns of ...</td>\n",
       "      <td>Although cash transfers (CT) have been recomme...</td>\n",
       "      <td>Global public health</td>\n",
       "      <td>J Wamoyi;P Balvanz;MW Gichane;S Maman;S Mugung...</td>\n",
       "      <td>2019</td>\n",
       "      <td>31809640</td>\n",
       "      <td></td>\n",
       "      <td>D016428:Journal Article</td>\n",
       "      <td></td>\n",
       "      <td>...</td>\n",
       "      <td>National Institute of Medical Research, Mwanza...</td>\n",
       "      <td></td>\n",
       "      <td></td>\n",
       "      <td>Glob Public Health</td>\n",
       "      <td>101256323</td>\n",
       "      <td>1744-1692</td>\n",
       "      <td>England</td>\n",
       "      <td>True</td>\n",
       "      <td>[[Although, cash, transfers, CT, have, been, r...</td>\n",
       "      <td>[[cash, transfers, ct, recommended, strategy, ...</td>\n",
       "    </tr>\n",
       "    <tr>\n",
       "      <td>40</td>\n",
       "      <td>250</td>\n",
       "      <td>Sexual activity, contraceptive use and sexual ...</td>\n",
       "      <td>OBJECTIVE\\nTo compare the prevalence of sexual...</td>\n",
       "      <td>Contraception</td>\n",
       "      <td>Z Ansari-Thomas;S Desai;LD Lindberg</td>\n",
       "      <td>2019</td>\n",
       "      <td>31809701</td>\n",
       "      <td></td>\n",
       "      <td>D016428:Journal Article</td>\n",
       "      <td></td>\n",
       "      <td>...</td>\n",
       "      <td>Guttmacher Institute, 125 Maiden Lane, New Yor...</td>\n",
       "      <td></td>\n",
       "      <td></td>\n",
       "      <td>Contraception</td>\n",
       "      <td>0234361</td>\n",
       "      <td>0010-7824</td>\n",
       "      <td>United States</td>\n",
       "      <td>True</td>\n",
       "      <td>[[OBJECTIVE], [To, compare, the, prevalence, o...</td>\n",
       "      <td>[[objective], [compare, prevalence, sexual, be...</td>\n",
       "    </tr>\n",
       "    <tr>\n",
       "      <td>50</td>\n",
       "      <td>281</td>\n",
       "      <td>Striatal Dopamine D2 Receptors Regulate Cost S...</td>\n",
       "      <td>The role of the dopamine D2 receptor (D2R) in ...</td>\n",
       "      <td>Neuroscience</td>\n",
       "      <td>D Mourra;F Gnazzo;S Cobos;JA Beeler</td>\n",
       "      <td>2019</td>\n",
       "      <td>31809732</td>\n",
       "      <td></td>\n",
       "      <td>D016428:Journal Article</td>\n",
       "      <td></td>\n",
       "      <td>...</td>\n",
       "      <td>Department of Psychology, Queens College, City...</td>\n",
       "      <td></td>\n",
       "      <td></td>\n",
       "      <td>Neuroscience</td>\n",
       "      <td>7605074</td>\n",
       "      <td>0306-4522</td>\n",
       "      <td>United States</td>\n",
       "      <td>True</td>\n",
       "      <td>[[The, role, of, the, dopamine, D2, receptor, ...</td>\n",
       "      <td>[[role, dopamine, d2, receptor, d2r, regulatin...</td>\n",
       "    </tr>\n",
       "    <tr>\n",
       "      <td>60</td>\n",
       "      <td>328</td>\n",
       "      <td>Plasticity in brain activity dynamics after ta...</td>\n",
       "      <td>Cognitive control is supported by a dynamic in...</td>\n",
       "      <td>Neuropsychologia</td>\n",
       "      <td>S Dörrenbächer;C Wu;H Zimmer;J Kray</td>\n",
       "      <td>2019</td>\n",
       "      <td>31809779</td>\n",
       "      <td></td>\n",
       "      <td>D016428:Journal Article</td>\n",
       "      <td></td>\n",
       "      <td>...</td>\n",
       "      <td>Saarland University, Saarbrücken, Germany. Ele...</td>\n",
       "      <td></td>\n",
       "      <td></td>\n",
       "      <td>Neuropsychologia</td>\n",
       "      <td>0020713</td>\n",
       "      <td>0028-3932</td>\n",
       "      <td>England</td>\n",
       "      <td>True</td>\n",
       "      <td>[[Cognitive, control, is, supported, by, a, dy...</td>\n",
       "      <td>[[cognitive, control, supported, dynamic, inte...</td>\n",
       "    </tr>\n",
       "    <tr>\n",
       "      <td>70</td>\n",
       "      <td>397</td>\n",
       "      <td>Consideration of confounding was suboptimal in...</td>\n",
       "      <td>OBJECTIVE\\nWhen reporting observational studie...</td>\n",
       "      <td>Journal of clinical epidemiology</td>\n",
       "      <td>K Munkholm;M Faurholt-Jepsen;JPA Ioannidis;LG ...</td>\n",
       "      <td>2019</td>\n",
       "      <td>31809848</td>\n",
       "      <td></td>\n",
       "      <td>D016428:Journal Article</td>\n",
       "      <td></td>\n",
       "      <td>...</td>\n",
       "      <td>Nordic Cochrane Centre, Rigshospitalet, Copenh...</td>\n",
       "      <td></td>\n",
       "      <td></td>\n",
       "      <td>J Clin Epidemiol</td>\n",
       "      <td>8801383</td>\n",
       "      <td>0895-4356</td>\n",
       "      <td>United States</td>\n",
       "      <td>True</td>\n",
       "      <td>[[OBJECTIVE], [When, reporting, observational,...</td>\n",
       "      <td>[[objective], [reporting, observational, studi...</td>\n",
       "    </tr>\n",
       "    <tr>\n",
       "      <td>80</td>\n",
       "      <td>436</td>\n",
       "      <td>Higher resting-state BNST-CeA connectivity is ...</td>\n",
       "      <td>The bed nucleus of the stria terminalis (BNST)...</td>\n",
       "      <td>NeuroImage</td>\n",
       "      <td>WS Pedersen;SM Schaefer;LK Gresham;SD Lee;MP K...</td>\n",
       "      <td>2019</td>\n",
       "      <td>31809887</td>\n",
       "      <td></td>\n",
       "      <td>D016428:Journal Article</td>\n",
       "      <td></td>\n",
       "      <td>...</td>\n",
       "      <td>university of wisconsin-madison, United States...</td>\n",
       "      <td></td>\n",
       "      <td></td>\n",
       "      <td>Neuroimage</td>\n",
       "      <td>9215515</td>\n",
       "      <td>1053-8119</td>\n",
       "      <td>United States</td>\n",
       "      <td>True</td>\n",
       "      <td>[[The, bed, nucleus, of, the, stria, terminali...</td>\n",
       "      <td>[[bed, nucleus, stria, terminalis, bnst, centr...</td>\n",
       "    </tr>\n",
       "    <tr>\n",
       "      <td>90</td>\n",
       "      <td>468</td>\n",
       "      <td>Altered post-stroke propulsion is related to p...</td>\n",
       "      <td>BACKGROUND\\nGait propulsion is often altered f...</td>\n",
       "      <td>Clinical biomechanics (Bristol, Avon)</td>\n",
       "      <td>JC Dean;MG Bowden;AL Kelly;SA Kautz</td>\n",
       "      <td>2019</td>\n",
       "      <td>31809919</td>\n",
       "      <td></td>\n",
       "      <td>D016428:Journal Article</td>\n",
       "      <td></td>\n",
       "      <td>...</td>\n",
       "      <td>Ralph H. Johnson Veterans Affairs Medical Cent...</td>\n",
       "      <td></td>\n",
       "      <td></td>\n",
       "      <td>Clin Biomech (Bristol, Avon)</td>\n",
       "      <td>8611877</td>\n",
       "      <td>0268-0033</td>\n",
       "      <td>England</td>\n",
       "      <td>True</td>\n",
       "      <td>[[BACKGROUND], [Gait, propulsion, is, often, a...</td>\n",
       "      <td>[[background], [gait, propulsion, altered, fol...</td>\n",
       "    </tr>\n",
       "  </tbody>\n",
       "</table>\n",
       "<p>10 rows × 24 columns</p>\n",
       "</div>"
      ],
      "text/plain": [
       "    index                                              title  \\\n",
       "0       8  Is Performing Repetitions to Failure Less Impo...   \n",
       "10     46  Modulators of hormonal response regulate tempo...   \n",
       "20    122  Ubiquitination can change the structure of the...   \n",
       "30    191  Decision-making and cash spending patterns of ...   \n",
       "40    250  Sexual activity, contraceptive use and sexual ...   \n",
       "50    281  Striatal Dopamine D2 Receptors Regulate Cost S...   \n",
       "60    328  Plasticity in brain activity dynamics after ta...   \n",
       "70    397  Consideration of confounding was suboptimal in...   \n",
       "80    436  Higher resting-state BNST-CeA connectivity is ...   \n",
       "90    468  Altered post-stroke propulsion is related to p...   \n",
       "\n",
       "                                             abstract  \\\n",
       "0   Lacerda, LT, Marra-Lopes, RO, Diniz, RCR, Lima...   \n",
       "10  Neuronal diversity is at the core of the compl...   \n",
       "20  The formation of toxic amyloid aggregates is a...   \n",
       "30  Although cash transfers (CT) have been recomme...   \n",
       "40  OBJECTIVE\\nTo compare the prevalence of sexual...   \n",
       "50  The role of the dopamine D2 receptor (D2R) in ...   \n",
       "60  Cognitive control is supported by a dynamic in...   \n",
       "70  OBJECTIVE\\nWhen reporting observational studie...   \n",
       "80  The bed nucleus of the stria terminalis (BNST)...   \n",
       "90  BACKGROUND\\nGait propulsion is often altered f...   \n",
       "\n",
       "                                          journal  \\\n",
       "0   Journal of strength and conditioning research   \n",
       "10                                  PLoS genetics   \n",
       "20               The Journal of organic chemistry   \n",
       "30                           Global public health   \n",
       "40                                  Contraception   \n",
       "50                                   Neuroscience   \n",
       "60                               Neuropsychologia   \n",
       "70               Journal of clinical epidemiology   \n",
       "80                                     NeuroImage   \n",
       "90          Clinical biomechanics (Bristol, Avon)   \n",
       "\n",
       "                                              authors pubdate      pmid  \\\n",
       "0   LT Lacerda;RO Marra-Lopes;RCR Diniz;FV Lima;SA...    2019  31809457   \n",
       "10                            G Marchetti;G Tavosanis    2019  31809495   \n",
       "20     SP Moon;AT Balana;A Galesic;A Rakshit;MR Pratt    2019  31809571   \n",
       "30  J Wamoyi;P Balvanz;MW Gichane;S Maman;S Mugung...    2019  31809640   \n",
       "40                Z Ansari-Thomas;S Desai;LD Lindberg    2019  31809701   \n",
       "50                D Mourra;F Gnazzo;S Cobos;JA Beeler    2019  31809732   \n",
       "60                S Dörrenbächer;C Wu;H Zimmer;J Kray    2019  31809779   \n",
       "70  K Munkholm;M Faurholt-Jepsen;JPA Ioannidis;LG ...    2019  31809848   \n",
       "80  WS Pedersen;SM Schaefer;LK Gresham;SD Lee;MP K...    2019  31809887   \n",
       "90                JC Dean;MG Bowden;AL Kelly;SA Kautz    2019  31809919   \n",
       "\n",
       "   mesh_terms        publication_types chemical_list  ...  \\\n",
       "0              D016428:Journal Article                ...   \n",
       "10             D016428:Journal Article                ...   \n",
       "20             D016428:Journal Article                ...   \n",
       "30             D016428:Journal Article                ...   \n",
       "40             D016428:Journal Article                ...   \n",
       "50             D016428:Journal Article                ...   \n",
       "60             D016428:Journal Article                ...   \n",
       "70             D016428:Journal Article                ...   \n",
       "80             D016428:Journal Article                ...   \n",
       "90             D016428:Journal Article                ...   \n",
       "\n",
       "                                         affiliations pmc other_id  \\\n",
       "0   Weight Training Laboratory, School of Physical...                \n",
       "10  Dynamics of neuronal circuits, German Center f...                \n",
       "20                                                                   \n",
       "30  National Institute of Medical Research, Mwanza...                \n",
       "40  Guttmacher Institute, 125 Maiden Lane, New Yor...                \n",
       "50  Department of Psychology, Queens College, City...                \n",
       "60  Saarland University, Saarbrücken, Germany. Ele...                \n",
       "70  Nordic Cochrane Centre, Rigshospitalet, Copenh...                \n",
       "80  university of wisconsin-madison, United States...                \n",
       "90  Ralph H. Johnson Veterans Affairs Medical Cent...                \n",
       "\n",
       "                      medline_ta nlm_unique_id issn_linking        country  \\\n",
       "0            J Strength Cond Res       9415084    1064-8011  United States   \n",
       "10                    PLoS Genet     101239074    1553-7390  United States   \n",
       "20                    J Org Chem      2985193R    0022-3263  United States   \n",
       "30            Glob Public Health     101256323    1744-1692        England   \n",
       "40                 Contraception       0234361    0010-7824  United States   \n",
       "50                  Neuroscience       7605074    0306-4522  United States   \n",
       "60              Neuropsychologia       0020713    0028-3932        England   \n",
       "70              J Clin Epidemiol       8801383    0895-4356  United States   \n",
       "80                    Neuroimage       9215515    1053-8119  United States   \n",
       "90  Clin Biomech (Bristol, Avon)       8611877    0268-0033        England   \n",
       "\n",
       "   flag_psych                                    tokenized_sents  \\\n",
       "0        True  [[Lacerda, LT, Marra, Lopes, RO, Diniz, RCR, L...   \n",
       "10       True  [[Neuronal, diversity, is, at, the, core, of, ...   \n",
       "20       True  [[The, formation, of, toxic, amyloid, aggregat...   \n",
       "30       True  [[Although, cash, transfers, CT, have, been, r...   \n",
       "40       True  [[OBJECTIVE], [To, compare, the, prevalence, o...   \n",
       "50       True  [[The, role, of, the, dopamine, D2, receptor, ...   \n",
       "60       True  [[Cognitive, control, is, supported, by, a, dy...   \n",
       "70       True  [[OBJECTIVE], [When, reporting, observational,...   \n",
       "80       True  [[The, bed, nucleus, of, the, stria, terminali...   \n",
       "90       True  [[BACKGROUND], [Gait, propulsion, is, often, a...   \n",
       "\n",
       "                                     normalized_sents  \n",
       "0   [[lacerda, lt, marra, lopes, ro, diniz, rcr, l...  \n",
       "10  [[neuronal, diversity, core, complex, processi...  \n",
       "20  [[formation, toxic, amyloid, aggregates, commo...  \n",
       "30  [[cash, transfers, ct, recommended, strategy, ...  \n",
       "40  [[objective], [compare, prevalence, sexual, be...  \n",
       "50  [[role, dopamine, d2, receptor, d2r, regulatin...  \n",
       "60  [[cognitive, control, supported, dynamic, inte...  \n",
       "70  [[objective], [reporting, observational, studi...  \n",
       "80  [[bed, nucleus, stria, terminalis, bnst, centr...  \n",
       "90  [[background], [gait, propulsion, altered, fol...  \n",
       "\n",
       "[10 rows x 24 columns]"
      ]
     },
     "execution_count": 10,
     "metadata": {},
     "output_type": "execute_result"
    }
   ],
   "source": [
    "pubmed_psyc['tokenized_sents'] = pubmed_psyc['abstract'].apply(lambda x: [lucem_illud_2020.word_tokenize(s) for s in lucem_illud_2020.sent_tokenize(x)])\n",
    "pubmed_psyc['normalized_sents'] = pubmed_psyc['tokenized_sents'].apply(lambda x: [lucem_illud_2020.normalizeTokens(s, lemma=False) for s in x])\n",
    "\n",
    "pubmed_psyc[:100:10]"
   ]
  },
  {
   "cell_type": "markdown",
   "metadata": {},
   "source": [
    "# Word2Vec\n",
    "\n",
    "We will be using the gensim implementation of [Word2Vec](https://radimrehurek.com/gensim/models/word2vec.html#gensim.models.word2vec.Word2Vec).\n",
    "\n",
    "To load our data our data we give all the sentences to the trainer:"
   ]
  },
  {
   "cell_type": "code",
   "execution_count": 11,
   "metadata": {},
   "outputs": [],
   "source": [
    "pubmedW2V = gensim.models.word2vec.Word2Vec(pubmed_psyc['normalized_sents'].sum())"
   ]
  },
  {
   "cell_type": "markdown",
   "metadata": {},
   "source": [
    "Inside the word2vec object the words each have a vector. To access the vector directly, use the square braces (`__getitem__`) method:"
   ]
  },
  {
   "cell_type": "code",
   "execution_count": 12,
   "metadata": {},
   "outputs": [
    {
     "data": {
      "text/plain": [
       "array([[ 4.0153033e-01,  1.3310082e+00,  3.5776463e-01, ...,\n",
       "         5.0979555e-02,  6.8678927e-01, -7.7526248e-01],\n",
       "       [-6.1431402e-01,  1.2784955e-01,  2.6010132e-01, ...,\n",
       "         9.4008476e-01,  7.2524254e-03, -1.0515528e+00],\n",
       "       [ 6.2456090e-02,  3.0501029e-01, -1.6191721e-02, ...,\n",
       "         9.6975189e-01, -1.5822414e-01, -1.9581164e-01],\n",
       "       ...,\n",
       "       [ 2.6646450e-02,  1.0779600e-01,  2.1256628e-02, ...,\n",
       "         3.7204292e-02,  1.1300990e-02, -5.4254547e-02],\n",
       "       [ 1.0333662e-02,  5.7347078e-02,  1.5759625e-02, ...,\n",
       "         5.5551245e-03,  1.2842683e-02, -4.1309483e-02],\n",
       "       [ 5.7251854e-03,  7.0056923e-02, -9.8262839e-03, ...,\n",
       "         8.2492473e-04,  1.5516074e-02, -3.0646866e-02]], dtype=float32)"
      ]
     },
     "execution_count": 12,
     "metadata": {},
     "output_type": "execute_result"
    }
   ],
   "source": [
    "pubmedW2V.wv.syn0"
   ]
  },
  {
   "cell_type": "code",
   "execution_count": 13,
   "metadata": {},
   "outputs": [
    {
     "data": {
      "text/plain": [
       "'brain'"
      ]
     },
     "execution_count": 13,
     "metadata": {},
     "output_type": "execute_result"
    }
   ],
   "source": [
    "pubmedW2V.wv.index2word[10]"
   ]
  },
  {
   "cell_type": "code",
   "execution_count": 14,
   "metadata": {},
   "outputs": [
    {
     "data": {
      "text/plain": [
       "[('regions', 0.8886701464653015),\n",
       " ('cortical', 0.8629834055900574),\n",
       " ('cord', 0.8569933176040649),\n",
       " ('alterations', 0.8374176025390625),\n",
       " ('damage', 0.8314019441604614),\n",
       " ('function', 0.8295948505401611),\n",
       " ('barrier', 0.8224576711654663),\n",
       " ('connectivity', 0.8195236921310425),\n",
       " ('spinal', 0.8169968128204346),\n",
       " ('functions', 0.8126894235610962)]"
      ]
     },
     "execution_count": 14,
     "metadata": {},
     "output_type": "execute_result"
    }
   ],
   "source": [
    "pubmedW2V.most_similar('brain')"
   ]
  },
  {
   "cell_type": "code",
   "execution_count": 15,
   "metadata": {},
   "outputs": [
    {
     "data": {
      "text/plain": [
       "[('policy', 0.9945331811904907),\n",
       " ('inform', 0.9885274767875671),\n",
       " ('perspectives', 0.9877787828445435),\n",
       " ('implementation', 0.9875296354293823),\n",
       " ('team', 0.987359881401062),\n",
       " ('challenges', 0.9872177243232727),\n",
       " ('issue', 0.9863914251327515),\n",
       " ('resources', 0.9853188991546631),\n",
       " ('perspective', 0.9850060343742371),\n",
       " ('programs', 0.9844076633453369)]"
      ]
     },
     "execution_count": 15,
     "metadata": {},
     "output_type": "execute_result"
    }
   ],
   "source": [
    "pubmedW2V.most_similar('psychology')"
   ]
  },
  {
   "cell_type": "code",
   "execution_count": 16,
   "metadata": {},
   "outputs": [
    {
     "data": {
      "text/plain": [
       "[('huntington', 0.9919377565383911),\n",
       " ('parkinson', 0.991714358329773),\n",
       " ('cln2', 0.9862473011016846),\n",
       " ('progression', 0.9832834005355835),\n",
       " ('sclerosis', 0.9752238988876343),\n",
       " ('rheumatic', 0.9626461267471313),\n",
       " ('als', 0.962138295173645),\n",
       " ('modifying', 0.9614064693450928),\n",
       " ('rare', 0.961185097694397),\n",
       " ('frontotemporal', 0.9547041654586792)]"
      ]
     },
     "execution_count": 16,
     "metadata": {},
     "output_type": "execute_result"
    }
   ],
   "source": [
    "pubmedW2V.most_similar('alzheimer')"
   ]
  },
  {
   "cell_type": "code",
   "execution_count": 17,
   "metadata": {},
   "outputs": [
    {
     "data": {
      "text/plain": [
       "'apple'"
      ]
     },
     "execution_count": 17,
     "metadata": {},
     "output_type": "execute_result"
    }
   ],
   "source": [
    "# distinguish non-psyc words from psyc-related words\n",
    "pubmedW2V.doesnt_match(['cortex', 'neuron', 'hippocampus', 'brain', 'apple'])"
   ]
  },
  {
   "cell_type": "markdown",
   "metadata": {},
   "source": [
    "Find which word best matches the result of a semantic *equation* (here, we seek the words whose vectors best fit the missing entry from the equation: **X + Y - Z = _**."
   ]
  },
  {
   "cell_type": "code",
   "execution_count": 18,
   "metadata": {},
   "outputs": [
    {
     "data": {
      "text/plain": [
       "[('progression', 0.9778907895088196),\n",
       " ('huntington', 0.9679538011550903),\n",
       " ('ad', 0.9549772143363953),\n",
       " ('neurodegenerative', 0.945442795753479),\n",
       " ('common', 0.9454143643379211),\n",
       " ('sclerosis', 0.9408320188522339),\n",
       " ('rheumatic', 0.939475953578949),\n",
       " ('disease', 0.933544397354126),\n",
       " ('rare', 0.9317511320114136),\n",
       " ('frontotemporal', 0.9296457767486572)]"
      ]
     },
     "execution_count": 18,
     "metadata": {},
     "output_type": "execute_result"
    }
   ],
   "source": [
    "# alzheimer to cln2 is just as parkinson to __\n",
    "pubmedW2V.most_similar(positive=['alzheimer', 'parkinson'], negative = ['cln2'])"
   ]
  },
  {
   "cell_type": "markdown",
   "metadata": {},
   "source": [
    "**alzheimer** is to **cln2** as **parkinson** is to **progression**"
   ]
  },
  {
   "cell_type": "code",
   "execution_count": 19,
   "metadata": {},
   "outputs": [
    {
     "data": {
      "text/plain": [
       "[('develop', 0.9174855947494507),\n",
       " ('need', 0.9110099673271179),\n",
       " ('limited', 0.9077383875846863),\n",
       " ('research', 0.905647873878479),\n",
       " ('begun', 0.905100405216217),\n",
       " ('clinicians', 0.9040517210960388),\n",
       " ('practice', 0.9020276665687561),\n",
       " ('challenges', 0.9006465673446655),\n",
       " ('educating', 0.8990417718887329),\n",
       " ('include', 0.890468180179596)]"
      ]
     },
     "execution_count": 19,
     "metadata": {},
     "output_type": "execute_result"
    }
   ],
   "source": [
    "pubmedW2V.most_similar(positive=['brain', 'psychology'], negative = ['cortical'])"
   ]
  },
  {
   "cell_type": "markdown",
   "metadata": {},
   "source": [
    "**brain** is to **cortical** as **psychology** is to **clinicians**"
   ]
  },
  {
   "cell_type": "code",
   "execution_count": 20,
   "metadata": {},
   "outputs": [],
   "source": [
    "pubmedW2V.save(\"pubmedWORD2Vec\")"
   ]
  },
  {
   "cell_type": "code",
   "execution_count": 21,
   "metadata": {},
   "outputs": [],
   "source": [
    "# Top 50 words from the dataset\n",
    "numWords = 50\n",
    "targetWords = pubmedW2V.wv.index2word[:numWords]"
   ]
  },
  {
   "cell_type": "code",
   "execution_count": 22,
   "metadata": {},
   "outputs": [
    {
     "data": {
      "text/plain": [
       "array([[ 0.40153033,  1.3310082 ,  0.35776463, ...,  0.05097955,\n",
       "         0.6867893 , -0.7752625 ],\n",
       "       [-0.614314  ,  0.12784955,  0.26010132, ...,  0.94008476,\n",
       "         0.00725243, -1.0515528 ],\n",
       "       [ 0.06245609,  0.3050103 , -0.01619172, ...,  0.9697519 ,\n",
       "        -0.15822414, -0.19581164],\n",
       "       ...,\n",
       "       [ 0.46239367,  0.09952348,  0.19319801, ...,  0.2401228 ,\n",
       "        -0.30271092, -1.2077801 ],\n",
       "       [ 0.17431818,  2.2135253 ,  0.73209864, ...,  0.28144208,\n",
       "         0.25755653, -0.2711036 ],\n",
       "       [-0.7831324 ,  1.280977  , -0.6696038 , ..., -0.2603139 ,\n",
       "         0.3797404 ,  0.27821994]], dtype=float32)"
      ]
     },
     "execution_count": 22,
     "metadata": {},
     "output_type": "execute_result"
    }
   ],
   "source": [
    "# create a smaller matrix\n",
    "wordsSubMatrix = []\n",
    "for word in targetWords:\n",
    "    wordsSubMatrix.append(pubmedW2V[word])\n",
    "wordsSubMatrix = np.array(wordsSubMatrix)\n",
    "wordsSubMatrix"
   ]
  },
  {
   "cell_type": "markdown",
   "metadata": {},
   "source": [
    "Then we can use PCA to reduce the dimesions (e.g., to 50), and T-SNE to project them down to the two we will visualize. We note that this is nondeterministic process, and so you can repeat and achieve alternative projectsions/visualizations of the words:"
   ]
  },
  {
   "cell_type": "code",
   "execution_count": 23,
   "metadata": {},
   "outputs": [],
   "source": [
    "pcaWords = sklearn.decomposition.PCA(n_components = 50).fit(wordsSubMatrix)\n",
    "reducedPCA_data = pcaWords.transform(wordsSubMatrix)\n",
    "tsneWords = sklearn.manifold.TSNE(n_components = 2).fit_transform(reducedPCA_data)"
   ]
  },
  {
   "cell_type": "code",
   "execution_count": 24,
   "metadata": {},
   "outputs": [
    {
     "data": {
      "image/png": "[encoded data removed]",
      "text/plain": [
       "<Figure size 720x432 with 1 Axes>"
      ]
     },
     "metadata": {},
     "output_type": "display_data"
    }
   ],
   "source": [
    "# TSNE Plot\n",
    "fig = plt.figure(figsize = (10,6))\n",
    "ax = fig.add_subplot(111)\n",
    "ax.set_frame_on(False)\n",
    "plt.scatter(tsneWords[:, 0], tsneWords[:, 1], alpha = 0)#Making the points invisible \n",
    "for i, word in enumerate(targetWords):\n",
    "    ax.annotate(word, (tsneWords[:, 0][i],tsneWords[:, 1][i]), size =  20 * (numWords - i) / numWords)\n",
    "plt.xticks(())\n",
    "plt.yticks(())\n",
    "plt.show()"
   ]
  },
  {
   "cell_type": "code",
   "execution_count": 25,
   "metadata": {},
   "outputs": [
    {
     "data": {
      "image/png": "[encoded data removed]",
      "text/plain": [
       "<Figure size 720x432 with 1 Axes>"
      ]
     },
     "metadata": {},
     "output_type": "display_data"
    }
   ],
   "source": [
    "# PCA Plot\n",
    "fig = plt.figure(figsize = (10,6))\n",
    "ax = fig.add_subplot(111)\n",
    "ax.set_frame_on(False)\n",
    "plt.scatter(reducedPCA_data[:, 0], reducedPCA_data[:, 1], alpha = 0)#Making the points invisible \n",
    "for i, word in enumerate(targetWords):\n",
    "    ax.annotate(word, (reducedPCA_data[:, 0][i],reducedPCA_data[:, 1][i]), size =  20 * (numWords - i) / numWords)\n",
    "plt.xticks(())\n",
    "plt.yticks(())\n",
    "plt.show()"
   ]
  },
  {
   "cell_type": "markdown",
   "metadata": {},
   "source": [
    "# Doc2Vec  \n",
    "Instead of just looking at just how words embed within in the space, we can look at how the different documents relate to each other within the space. First lets load our data--abstracts of most U.S. physics papers from the 1950s."
   ]
  },
  {
   "cell_type": "code",
   "execution_count": 26,
   "metadata": {},
   "outputs": [],
   "source": [
    "keywords = ['optic', 'brain', 'neural', 'alzheimer', 'parkinson', 'huntington']"
   ]
  },
  {
   "cell_type": "code",
   "execution_count": 27,
   "metadata": {},
   "outputs": [],
   "source": [
    "pubmed_psyc['tokenized_words'] = pubmed_psyc['abstract'].apply(lambda x: lucem_illud_2020.word_tokenize(x))\n",
    "pubmed_psyc['normalized_words'] = pubmed_psyc['tokenized_words'].apply(lambda x: lucem_illud_2020.normalizeTokens(x, lemma=False))"
   ]
  },
  {
   "cell_type": "code",
   "execution_count": 28,
   "metadata": {},
   "outputs": [],
   "source": [
    "taggedDocs = []\n",
    "for index, row in pubmed_psyc.iterrows():\n",
    "    docKeywords = [s for s in keywords if s in row['normalized_words']]\n",
    "    docKeywords.append(row['title'])\n",
    "    taggedDocs.append(gensim.models.doc2vec.LabeledSentence(words = row['normalized_words'], tags = docKeywords))\n",
    "\n",
    "pubmed_psyc['TaggedAbstracts'] = taggedDocs\n"
   ]
  },
  {
   "cell_type": "code",
   "execution_count": 29,
   "metadata": {},
   "outputs": [
    {
     "data": {
      "text/plain": [
       "LabeledSentence(words=['purpose', 'computational', 'burden', 'associated', 'model', 'based', 'iterative', 'reconstruction', 'mbir', 'practical', 'limitation', 'iterative', 'coordinate', 'descent', 'icd', 'optimization', 'approach', 'mbir', 'thought', 'incompatible', 'modern', 'computing', 'architectures', 'especially', 'graphics', 'processing', 'units', 'gpus', 'purpose', 'work', 'accelerate', 'previously', 'released', 'open', 'source', 'freect_icd', 'include', 'gpu', 'acceleration', 'demonstrate', 'computational', 'performance', 'icd', 'comparable', 'simultaneous', 'update', 'approaches', 'methods', 'freect_icd', 'uses', 'stored', 'system', 'matrix', 'ssm', 'precalculates', 'forward', 'projector', 'form', 'sparse', 'matrix', 'reconstructs', 'rotating', 'coordinate', 'grid', 'exploit', 'helical', 'symmetry', 'gpu', 'icd', 'implementation', 'shuffle', 'sinogram', 'memory', 'ordering', 'data', 'access', 'sinogram', 'coalesce', 'fewer', 'transactions', 'update', 'ns', 'voxels', 'xy', 'plane', 'simultaneously', 'improve', 'occupancy', 'conventional', 'icd', 'updates', 'voxels', 'sequentially', 'ns', '=', 'ns', '>', 'eliminates', 'existing', 'convergence', 'guarantees', 'convergence', 'behavior', 'clinical', 'dataset', 'studied', 'empirically', 'results', 'pediatric', 'dataset', 'sinogram', 'size', '×', '×', 'reconstructed', 'matrix', 'size', '×', '×', 'code', 'requires', 's', 'iteration', 'single', 'gpu', 'compared', 's', 'iteration', '6-core', 'cpu', 'freect_icd', 'iterations', 'proposed', 'reference', 'codes', 'converge', 'hu', 'rms', 'difference', 'rmsd', 'wfbp', 'initialization', 'convergence', 'hu', 'rmsd', 'achieved', 'min', 'convergence', 'similar', 'ns', 'values', 'ns', '=', 'sufficient', 'achieve', 'maximum', 'performance', 'divergence', 'observed', 'ns', '>', 'conclusions', 'appropriate', 'modifications', 'icd', 'able', 'achieve', 'computational', 'performance', 'competitive', 'simultaneous', 'update', 'algorithms', 'currently', 'mbir'], tags=['Accelerating iterative coordinate descent using a stored system matrix.'])"
      ]
     },
     "execution_count": 29,
     "metadata": {},
     "output_type": "execute_result"
    }
   ],
   "source": [
    "pubmed_psyc['TaggedAbstracts'][350]"
   ]
  },
  {
   "cell_type": "code",
   "execution_count": 30,
   "metadata": {},
   "outputs": [
    {
     "name": "stderr",
     "output_type": "stream",
     "text": [
      "//anaconda3/lib/python3.7/site-packages/gensim/models/doc2vec.py:574: UserWarning: The parameter `size` is deprecated, will be removed in 4.0.0, use `vector_size` instead.\n",
      "  warnings.warn(\"The parameter `size` is deprecated, will be removed in 4.0.0, use `vector_size` instead.\")\n"
     ]
    }
   ],
   "source": [
    "pubmedD2V = gensim.models.doc2vec.Doc2Vec(pubmed_psyc['TaggedAbstracts'], size=100)"
   ]
  },
  {
   "cell_type": "code",
   "execution_count": 31,
   "metadata": {},
   "outputs": [
    {
     "data": {
      "text/plain": [
       "array([ 0.45524675,  0.840954  , -0.98568183,  0.04416894,  0.04686768,\n",
       "        0.04218392, -0.9103407 ,  0.9695072 ,  0.45274857, -0.2822713 ,\n",
       "       -0.5208335 , -0.14313738, -0.24708807, -0.31637722,  1.0907842 ,\n",
       "       -0.03423565, -0.18010207,  0.22047614, -0.10918082,  0.22648802,\n",
       "       -0.71018237, -0.73464304,  0.9903612 , -0.95308715, -0.8008097 ,\n",
       "       -0.6293125 , -0.23401733,  0.21982934, -0.6672834 ,  0.3492877 ,\n",
       "       -0.12459791,  0.09965403,  0.4139429 , -0.46619356, -0.37899023,\n",
       "       -0.8843985 , -0.37104127,  0.48093024, -0.2541008 , -0.28300023,\n",
       "        0.45569134, -1.0193383 ,  0.39738   , -0.57364684,  0.45042235,\n",
       "       -0.10028014, -0.40148932, -0.64110714, -0.8431495 ,  0.26439548,\n",
       "       -0.30222887, -0.8192483 ,  0.55112267,  0.42530644, -0.13378853,\n",
       "        0.68449014, -0.92408615, -0.10338781, -0.4696574 ,  0.01402848,\n",
       "        0.8010325 ,  0.37148085,  0.63456243, -0.85825884, -0.47867844,\n",
       "       -0.67716086, -1.4602855 , -0.42249495,  0.6474962 ,  0.37456572,\n",
       "        0.8960224 ,  0.36915538, -0.69409287,  0.19314757, -0.67869604,\n",
       "       -0.28292575,  0.46261716,  0.55025804,  0.7345718 ,  0.13310565,\n",
       "        0.44756514, -0.164027  ,  0.41378078, -0.38367206, -0.13599259,\n",
       "        0.22375049,  0.1878678 ,  0.29432473,  0.18885352, -0.2508184 ,\n",
       "        0.23374386, -0.32147965, -0.03479899, -0.24199155,  0.48442063,\n",
       "       -0.03045837,  0.23872273,  0.6189741 ,  0.20660774, -0.11874777],\n",
       "      dtype=float32)"
      ]
     },
     "execution_count": 31,
     "metadata": {},
     "output_type": "execute_result"
    }
   ],
   "source": [
    "pubmedD2V['neuron']"
   ]
  },
  {
   "cell_type": "code",
   "execution_count": 32,
   "metadata": {},
   "outputs": [
    {
     "data": {
      "text/plain": [
       "[('pathway', 0.9900926351547241),\n",
       " ('dna', 0.9891312718391418),\n",
       " ('membrane', 0.9880461692810059),\n",
       " ('signaling', 0.9868366718292236),\n",
       " ('musk', 0.9848273396492004),\n",
       " ('astrocytes', 0.9845941066741943),\n",
       " ('selective', 0.9839456677436829),\n",
       " ('calcium', 0.9824100136756897),\n",
       " ('gpcrs', 0.9804224371910095),\n",
       " ('neuronal', 0.9800618886947632)]"
      ]
     },
     "execution_count": 32,
     "metadata": {},
     "output_type": "execute_result"
    }
   ],
   "source": [
    "pubmedD2V.most_similar(positive=['neuron', 'brain'], negative = ['brain'])"
   ]
  },
  {
   "cell_type": "code",
   "execution_count": 33,
   "metadata": {},
   "outputs": [
    {
     "data": {
      "text/plain": [
       "[('chronic', 0.8974261283874512),\n",
       " ('disorders', 0.8827416896820068),\n",
       " ('symptoms', 0.8775310516357422),\n",
       " ('neurological', 0.8743094801902771),\n",
       " ('acute', 0.873618483543396),\n",
       " ('severe', 0.8621687889099121),\n",
       " ('autism', 0.8367092609405518),\n",
       " ('associated', 0.8348663449287415),\n",
       " ('spectrum', 0.8271505832672119),\n",
       " ('depressive', 0.8209722638130188)]"
      ]
     },
     "execution_count": 33,
     "metadata": {},
     "output_type": "execute_result"
    }
   ],
   "source": [
    "pubmedD2V.most_similar(positive=['syndrome', 'disorder'], negative = ['parkinson'])"
   ]
  },
  {
   "cell_type": "code",
   "execution_count": 34,
   "metadata": {},
   "outputs": [
    {
     "data": {
      "text/plain": [
       "array([[0.99188346]], dtype=float32)"
      ]
     },
     "execution_count": 34,
     "metadata": {},
     "output_type": "execute_result"
    }
   ],
   "source": [
    "sklearn.metrics.pairwise.cosine_similarity(pubmedD2V['alzheimer'].reshape(1,-1), pubmedD2V['parkinson'].reshape(1,-1))\n",
    "#We reorient the vectors with .reshape(1, -1) so that they can be computed without a warning in sklearn"
   ]
  },
  {
   "cell_type": "code",
   "execution_count": 35,
   "metadata": {},
   "outputs": [
    {
     "data": {
      "text/plain": [
       "array([[0.26807004]], dtype=float32)"
      ]
     },
     "execution_count": 35,
     "metadata": {},
     "output_type": "execute_result"
    }
   ],
   "source": [
    "sklearn.metrics.pairwise.cosine_similarity(pubmedD2V['social'].reshape(1,-1), pubmedD2V['neural'].reshape(1,-1))"
   ]
  },
  {
   "cell_type": "code",
   "execution_count": 36,
   "metadata": {},
   "outputs": [
    {
     "data": {
      "text/plain": [
       "[('Case report on novel mutation in SPAST gene in Polish family with spastic paraplegia.',\n",
       "  0.9788801670074463),\n",
       " ('The Flipside of Eradicating a Disease; Human African Trypanosomiasis in a Woman in Rural Democratic Republic of Congo: A Case Report.',\n",
       "  0.94810950756073),\n",
       " ('Dimethyl Fumarate Was Ineffective but Not Harmful for a Patient with Myelin Oligodendrocyte Glycoprotein Antibody Disease.',\n",
       "  0.9248144626617432),\n",
       " ('Association Between Antidepressant Medication Use and Prevalence and Control of Cardiovascular Risk Factors in Community-Dwelling Older Adults. The Italian Health Examination Survey 2008-2012.',\n",
       "  0.9200846552848816),\n",
       " ('Clinical features of multiple system atrophy with or without rapid eye movement behavior disorder: a cross-sectional study in southwest China.',\n",
       "  0.9172966480255127)]"
      ]
     },
     "execution_count": 36,
     "metadata": {},
     "output_type": "execute_result"
    }
   ],
   "source": [
    "pubmedD2V.docvecs.most_similar([pubmedD2V['parkinson'] ], topn=5 )"
   ]
  },
  {
   "cell_type": "markdown",
   "metadata": {},
   "source": [
    "Now let's go the other way around and find words most similar to this document:"
   ]
  },
  {
   "cell_type": "code",
   "execution_count": 37,
   "metadata": {},
   "outputs": [
    {
     "data": {
      "text/plain": [
       "[('prodromal', 0.8860006332397461),\n",
       " ('parkinson', 0.8843082189559937),\n",
       " ('background', 0.883902907371521),\n",
       " ('paraneoplastic', 0.8838886022567749),\n",
       " ('alzheimer', 0.8796697854995728)]"
      ]
     },
     "execution_count": 37,
     "metadata": {},
     "output_type": "execute_result"
    }
   ],
   "source": [
    "pubmedD2V.most_similar( [pubmedD2V.docvecs[\"Cognitive symptoms of Alzheimer's disease: clinical management and prevention.\"] ], topn=5) \n",
    "                                           "
   ]
  },
  {
   "cell_type": "code",
   "execution_count": 38,
   "metadata": {},
   "outputs": [
    {
     "data": {
      "text/plain": [
       "[('mci', 0.9594337344169617),\n",
       " ('age-', 0.9431147575378418),\n",
       " ('osa', 0.9399081468582153),\n",
       " ('mas', 0.9310817122459412),\n",
       " ('controls', 0.9265158176422119)]"
      ]
     },
     "execution_count": 38,
     "metadata": {},
     "output_type": "execute_result"
    }
   ],
   "source": [
    "pubmedD2V.most_similar( [pubmedD2V.docvecs['Cerebrospinal fluid levels of neurogranin in Parkinsonian disorders.'] ], topn=5) "
   ]
  },
  {
   "cell_type": "markdown",
   "metadata": {},
   "source": [
    "We can even look for documents most like a query composed of multiple words:"
   ]
  },
  {
   "cell_type": "code",
   "execution_count": 39,
   "metadata": {},
   "outputs": [
    {
     "data": {
      "text/plain": [
       "[('Case report on novel mutation in SPAST gene in Polish family with spastic paraplegia.',\n",
       "  0.9704272747039795),\n",
       " ('The Flipside of Eradicating a Disease; Human African Trypanosomiasis in a Woman in Rural Democratic Republic of Congo: A Case Report.',\n",
       "  0.9491209983825684),\n",
       " ('Dimethyl Fumarate Was Ineffective but Not Harmful for a Patient with Myelin Oligodendrocyte Glycoprotein Antibody Disease.',\n",
       "  0.9277753829956055),\n",
       " ('Association Between Antidepressant Medication Use and Prevalence and Control of Cardiovascular Risk Factors in Community-Dwelling Older Adults. The Italian Health Examination Survey 2008-2012.',\n",
       "  0.9156852960586548),\n",
       " ('Neurofilament light is a treatment-responsive biomarker in CLN2 disease.',\n",
       "  0.9117344617843628)]"
      ]
     },
     "execution_count": 39,
     "metadata": {},
     "output_type": "execute_result"
    }
   ],
   "source": [
    "pubmedD2V.docvecs.most_similar([pubmedD2V['alzheimer']+pubmedD2V['parkinson']+pubmedD2V['huntington']], topn=5 )"
   ]
  },
  {
   "cell_type": "code",
   "execution_count": 40,
   "metadata": {},
   "outputs": [
    {
     "data": {
      "text/plain": [
       "[('management', 0.9406948089599609),\n",
       " ('prevention', 0.9341984987258911),\n",
       " ('sialorrhoea', 0.9108370542526245),\n",
       " ('interventions', 0.9024677276611328),\n",
       " ('research', 0.9010812640190125)]"
      ]
     },
     "execution_count": 40,
     "metadata": {},
     "output_type": "execute_result"
    }
   ],
   "source": [
    "pubmedD2V.most_similar( [pubmedD2V.docvecs[\"Age related neurodegenerative Alzheimer's disease: Usage of traditional herbs in therapeutics.\"] ], topn=5) "
   ]
  },
  {
   "cell_type": "code",
   "execution_count": 41,
   "metadata": {},
   "outputs": [],
   "source": [
    "heatmapMatrix = []\n",
    "for tagOuter in keywords:\n",
    "    column = []\n",
    "    tagVec = pubmedD2V.docvecs[tagOuter].reshape(1, -1)\n",
    "    for tagInner in keywords:\n",
    "        column.append(sklearn.metrics.pairwise.cosine_similarity(tagVec, pubmedD2V.docvecs[tagInner].reshape(1, -1))[0][0])\n",
    "    heatmapMatrix.append(column)\n",
    "heatmapMatrix = np.array(heatmapMatrix)"
   ]
  },
  {
   "cell_type": "code",
   "execution_count": 42,
   "metadata": {},
   "outputs": [
    {
     "data": {
      "image/png": "[encoded data removed]",
      "text/plain": [
       "<Figure size 432x288 with 2 Axes>"
      ]
     },
     "metadata": {
      "needs_background": "light"
     },
     "output_type": "display_data"
    }
   ],
   "source": [
    "fig, ax = plt.subplots()\n",
    "hmap = ax.pcolor(heatmapMatrix, cmap='Blues')\n",
    "cbar = plt.colorbar(hmap)\n",
    "\n",
    "cbar.set_label('cosine similarity', rotation=270)\n",
    "a = ax.set_xticks(np.arange(heatmapMatrix.shape[1]) + 0.5, minor=False)\n",
    "a = ax.set_yticks(np.arange(heatmapMatrix.shape[0]) + 0.5, minor=False)\n",
    "\n",
    "a = ax.set_xticklabels(keywords, minor=False, rotation=270)\n",
    "a = ax.set_yticklabels(keywords, minor=False)"
   ]
  },
  {
   "cell_type": "markdown",
   "metadata": {},
   "source": [
    "First, we can see the three progressive diseases are closely related and huntington seems to be closely related to optic as well."
   ]
  },
  {
   "cell_type": "code",
   "execution_count": 43,
   "metadata": {},
   "outputs": [],
   "source": [
    "# Now let's look at a heatmap of similarities between the first ten documents in the corpus:\n",
    "targetDocs = pubmed_psyc['title'][:10]\n",
    "\n",
    "heatmapMatrixD = []\n",
    "\n",
    "for tagOuter in targetDocs:\n",
    "    column = []\n",
    "    tagVec = pubmedD2V.docvecs[tagOuter].reshape(1, -1)\n",
    "    for tagInner in targetDocs:\n",
    "        column.append(sklearn.metrics.pairwise.cosine_similarity(tagVec, pubmedD2V.docvecs[tagInner].reshape(1, -1))[0][0])\n",
    "    heatmapMatrixD.append(column)\n",
    "heatmapMatrixD = np.array(heatmapMatrixD)"
   ]
  },
  {
   "cell_type": "code",
   "execution_count": 44,
   "metadata": {},
   "outputs": [
    {
     "data": {
      "image/png": "[encoded data removed]",
      "text/plain": [
       "<Figure size 720x720 with 2 Axes>"
      ]
     },
     "metadata": {
      "needs_background": "light"
     },
     "output_type": "display_data"
    }
   ],
   "source": [
    "fig, ax = plt.subplots(figsize=(10,10))\n",
    "hmap = ax.pcolor(heatmapMatrixD, cmap='Blues')\n",
    "cbar = plt.colorbar(hmap)\n",
    "\n",
    "cbar.set_label('cosine similarity', rotation=270)\n",
    "\n",
    "a = ax.set_xticks(np.arange(heatmapMatrixD.shape[1]) + 0.5, minor=False)\n",
    "a = ax.set_yticks(np.arange(heatmapMatrixD.shape[0]) + 0.5, minor=False)\n",
    "\n",
    "a = ax.set_xticklabels(targetDocs, minor=False, rotation=270)\n",
    "a = ax.set_yticklabels(targetDocs, minor=False)"
   ]
  },
  {
   "cell_type": "markdown",
   "metadata": {},
   "source": [
    "# Projection"
   ]
  },
  {
   "cell_type": "markdown",
   "metadata": {},
   "source": [
    "We can also project word vectors to an arbitray semantic dimension. To demonstrate this possibility, let's first load a model trained with New York Times news articles. "
   ]
  },
  {
   "cell_type": "code",
   "execution_count": 55,
   "metadata": {},
   "outputs": [
    {
     "data": {
      "text/plain": [
       "array([[-0.27316755,  1.7551286 , -0.62213105, ..., -0.23698969,\n",
       "         0.37184927, -0.4735749 ],\n",
       "       [-0.21711802,  1.4910135 , -0.42801893, ..., -0.17620295,\n",
       "         0.26037526, -0.42299256],\n",
       "       [-0.05885571,  0.3401101 , -0.114007  , ..., -0.04531337,\n",
       "         0.07347208, -0.11129963],\n",
       "       ...,\n",
       "       [-0.07374486,  1.8035378 ,  0.86673945, ...,  0.37007838,\n",
       "         0.05053267, -0.17116736],\n",
       "       [ 0.01930546,  0.11431077,  0.02827392, ...,  0.02906227,\n",
       "         0.01451551, -0.05054886],\n",
       "       [-0.08467931,  0.37505344,  0.04878287, ...,  0.05836328,\n",
       "         0.18309408, -0.12131137]], dtype=float32)"
      ]
     },
     "execution_count": 55,
     "metadata": {},
     "output_type": "execute_result"
    }
   ],
   "source": [
    "targetWords = ['alzheimer', 'parkinson', 'huntington', 'neurodegenerative', 'age', 'progression', 'memory', 'tremor', \n",
    "               'balance', 'cognitive', 'cure', 'medicine', 'treatment']\n",
    "targetWords += ['depression', 'schizophrenia', 'bipolar', 'personality', 'suicide', 'anxiety', 'agitation','psychotherapy']\n",
    "wordsSubMatrix = []\n",
    "for word in targetWords:\n",
    "    wordsSubMatrix.append(pubmedW2V[word])\n",
    "wordsSubMatrix = np.array(wordsSubMatrix)\n",
    "wordsSubMatrix"
   ]
  },
  {
   "cell_type": "code",
   "execution_count": 56,
   "metadata": {},
   "outputs": [],
   "source": [
    "pcaWords = sklearn.decomposition.PCA(n_components = 21).fit(wordsSubMatrix)\n",
    "reducedPCA_data = pcaWords.transform(wordsSubMatrix)\n",
    "tsneWords = sklearn.manifold.TSNE(n_components = 2).fit_transform(reducedPCA_data)"
   ]
  },
  {
   "cell_type": "code",
   "execution_count": 57,
   "metadata": {},
   "outputs": [
    {
     "data": {
      "image/png": "[encoded data removed]",
      "text/plain": [
       "<Figure size 720x432 with 1 Axes>"
      ]
     },
     "metadata": {},
     "output_type": "display_data"
    }
   ],
   "source": [
    "# TSNE Plot\n",
    "fig = plt.figure(figsize = (10,6))\n",
    "ax = fig.add_subplot(111)\n",
    "ax.set_frame_on(False)\n",
    "plt.scatter(tsneWords[:, 0], tsneWords[:, 1], alpha = 0)#Making the points invisible \n",
    "for i, word in enumerate(targetWords):\n",
    "    ax.annotate(word, (tsneWords[:, 0][i],tsneWords[:, 1][i]), size =  20 * (numWords - i) / numWords)\n",
    "plt.xticks(())\n",
    "plt.yticks(())\n",
    "plt.show()"
   ]
  },
  {
   "cell_type": "code",
   "execution_count": 54,
   "metadata": {},
   "outputs": [],
   "source": [
    "def normalize(vector):\n",
    "    normalized_vector = vector / np.linalg.norm(vector)\n",
    "    return normalized_vector\n",
    "\n",
    "def dimension(model, positives, negatives):\n",
    "    diff = sum([normalize(model[x]) for x in positives]) - sum([normalize(model[y]) for y in negatives])\n",
    "    return diff"
   ]
  },
  {
   "cell_type": "code",
   "execution_count": 59,
   "metadata": {},
   "outputs": [],
   "source": [
    "Disease = dimension(pubmedW2V, ['alzheimer', 'parkinson', 'huntington'], ['depression', 'schizophrenia', 'bipolar'])\n",
    "Symptom = dimension(pubmedW2V, ['memory', 'tremor', 'balance'], ['agitation', 'suicide', 'anxiety'])"
   ]
  },
  {
   "cell_type": "code",
   "execution_count": 60,
   "metadata": {},
   "outputs": [],
   "source": [
    "Occupations = ['doctor', 'therapist', 'nurse', 'clinician', 'psychiatrist', 'physician', 'neurologist']\n",
    "Treatments = ['therapy', 'medicine', 'session', 'family', 'empathy', 'drug']"
   ]
  },
  {
   "cell_type": "code",
   "execution_count": 62,
   "metadata": {},
   "outputs": [],
   "source": [
    "# Define a function to project words in a word list to each of the two dimensions.\n",
    "def makeDF(model, word_list):\n",
    "    d = []\n",
    "    s = []\n",
    "  \n",
    "    for word in word_list:\n",
    "        d.append(sklearn.metrics.pairwise.cosine_similarity(pubmedW2V[word].reshape(1,-1), Disease.reshape(1,-1))[0][0])\n",
    "        s.append(sklearn.metrics.pairwise.cosine_similarity(pubmedW2V[word].reshape(1,-1), Symptom.reshape(1,-1))[0][0])\n",
    "        \n",
    "    df = pandas.DataFrame({'disease': d, 'symptom': s}, index = word_list)\n",
    "    return df"
   ]
  },
  {
   "cell_type": "code",
   "execution_count": 64,
   "metadata": {},
   "outputs": [],
   "source": [
    "# get projections\n",
    "OCCdf = makeDF(pubmedW2V, Occupations) \n",
    "Treatdf = makeDF(pubmedW2V, Treatments)"
   ]
  },
  {
   "cell_type": "code",
   "execution_count": 65,
   "metadata": {},
   "outputs": [],
   "source": [
    "def Coloring(Series):\n",
    "    x = Series.values\n",
    "    y = x-x.min()\n",
    "    z = y/y.max()\n",
    "    c = list(plt.cm.rainbow(z))\n",
    "    return c\n",
    "\n",
    "def PlotDimension(ax,df, dim):\n",
    "    ax.set_frame_on(False)\n",
    "    ax.set_title(dim, fontsize = 20)\n",
    "    colors = Coloring(df[dim])\n",
    "    for i, word in enumerate(df.index):\n",
    "        ax.annotate(word, (0, df[dim][i]), color = colors[i], alpha = 0.6, fontsize = 12)\n",
    "    MaxY = df[dim].max()\n",
    "    MinY = df[dim].min()\n",
    "    plt.ylim(MinY,MaxY)\n",
    "    plt.yticks(())\n",
    "    plt.xticks(())"
   ]
  },
  {
   "cell_type": "code",
   "execution_count": 66,
   "metadata": {},
   "outputs": [
    {
     "data": {
      "image/png": "[encoded data removed]",
      "text/plain": [
       "<Figure size 864x288 with 2 Axes>"
      ]
     },
     "metadata": {},
     "output_type": "display_data"
    }
   ],
   "source": [
    "# plot occupation\n",
    "fig = plt.figure(figsize = (12,4))\n",
    "ax1 = fig.add_subplot(121)\n",
    "PlotDimension(ax1, OCCdf, 'disease')\n",
    "ax2 = fig.add_subplot(122)\n",
    "PlotDimension(ax2, OCCdf, 'symptom')\n",
    "plt.show()"
   ]
  },
  {
   "cell_type": "markdown",
   "metadata": {},
   "source": [
    "Interestingly, we distinguish the seemingly similar occupations within the psychology/neural science field. We find that psychiatrist is more closely related to progressive disease such as Parkinson and clinician is more closely related to psychological disorders such as depression. This can suggest that the neural science and psychology studies research on unconventional ways of treating these two kinds of diseases. "
   ]
  },
  {
   "cell_type": "code",
   "execution_count": 67,
   "metadata": {},
   "outputs": [
    {
     "data": {
      "image/png": "[encoded data removed]",
      "text/plain": [
       "<Figure size 864x288 with 2 Axes>"
      ]
     },
     "metadata": {},
     "output_type": "display_data"
    }
   ],
   "source": [
    "# plot treatment\n",
    "fig = plt.figure(figsize = (12,4))\n",
    "ax1 = fig.add_subplot(121)\n",
    "PlotDimension(ax1, Treatdf, 'disease')\n",
    "ax2 = fig.add_subplot(122)\n",
    "PlotDimension(ax2, Treatdf, 'symptom')\n",
    "plt.show()"
   ]
  },
  {
   "cell_type": "markdown",
   "metadata": {},
   "source": [
    "In discovering how treatments are projected on these two kinds of diseases, we notice that medicine is most closely related with Alzheimer, Parkinson and Huntington diseases, showing an increasing effort in experimenting medicines in this field, but psychological disorders lack this type of treatment. Instead, family, empathy and therapy are most closely related with depression, schizophrenia and bipolar, suggesting that scientists lean toward a psychological way of treatment instead of medicine."
   ]
  },
  {
   "cell_type": "markdown",
   "metadata": {},
   "source": [
    "# Linguistic Change or Difference\n",
    "\n",
    "Below is code that aligns the dimensions of multiple embeddings arrayed over time or some other dimension and allow identification of semantic chanage as the word vectors change their loadings for focal words. This code comes from the approach piloted at Stanford by William Hamilton, Daniel Jurafsky and Jure Lescovec [here](https://arxiv.org/pdf/1605.09096.pdf). "
   ]
  },
  {
   "cell_type": "markdown",
   "metadata": {},
   "source": [
    "Due to the size of the data and the computation load, I selected year 1979, 1991, 2017, 2018 and 2019."
   ]
  },
  {
   "cell_type": "code",
   "execution_count": 77,
   "metadata": {},
   "outputs": [],
   "source": [
    "filename = 'pubmed20n0060.xml.gz'\n",
    "psych_keywords = ['psych', 'behavior', 'neur']\n",
    "\n",
    "def isPsych(abstract, keywords):\n",
    "    return any(word in abstract for word in keywords)\n",
    "\n",
    "pubmed_parsed = pp.parse_medline_xml(\"./\" + filename)\n",
    "pubmed_df = pd.DataFrame(pubmed_parsed)\n",
    "pubmed_norm = pd.DataFrame(index=pubmed_df.index, columns=['flag_psych'], dtype=object)\n",
    "for row in pubmed_df.itertuples():\n",
    "    #flag pschology articles\n",
    "    pubmed_norm.at[row.Index, 'flag_psych'] = isPsych(row.abstract + row.title, psych_keywords)\n",
    "pubmed_full = pd.concat([pubmed_df, pubmed_norm], axis = 1)\n",
    "pubmed_psyc1 = pubmed_full[pubmed_full['flag_psych']].reset_index()\n"
   ]
  },
  {
   "cell_type": "code",
   "execution_count": 78,
   "metadata": {},
   "outputs": [],
   "source": [
    "pubmed_psyc1['tokenized_sents'] = pubmed_psyc1['abstract'].apply(lambda x: [lucem_illud_2020.word_tokenize(s) for s in lucem_illud_2020.sent_tokenize(x)])\n",
    "pubmed_psyc1['normalized_sents'] = pubmed_psyc1['tokenized_sents'].apply(lambda x: [lucem_illud_2020.normalizeTokens(s, lemma=False) for s in x])"
   ]
  },
  {
   "cell_type": "code",
   "execution_count": 79,
   "metadata": {},
   "outputs": [],
   "source": [
    "pubmed_psyc1['tokenized_words'] = pubmed_psyc1['abstract'].apply(lambda x: lucem_illud_2020.word_tokenize(x))\n",
    "pubmed_psyc1['normalized_words'] = pubmed_psyc1['tokenized_words'].apply(lambda x: lucem_illud_2020.normalizeTokens(x, lemma=False))"
   ]
  },
  {
   "cell_type": "code",
   "execution_count": 103,
   "metadata": {},
   "outputs": [],
   "source": [
    "filename = 'pubmed20n0015.xml.gz'\n",
    "psych_keywords = ['psych', 'behavior', 'neur']\n",
    "\n",
    "def isPsych(abstract, keywords):\n",
    "    return any(word in abstract for word in keywords)\n",
    "\n",
    "pubmed_parsed = pp.parse_medline_xml(\"./\" + filename)\n",
    "pubmed_df = pd.DataFrame(pubmed_parsed)\n",
    "pubmed_norm = pd.DataFrame(index=pubmed_df.index, columns=['flag_psych'], dtype=object)\n",
    "for row in pubmed_df.itertuples():\n",
    "    #flag pschology articles\n",
    "    pubmed_norm.at[row.Index, 'flag_psych'] = isPsych(row.abstract + row.title, psych_keywords)\n",
    "pubmed_full = pd.concat([pubmed_df, pubmed_norm], axis = 1)\n",
    "pubmed_psyc2 = pubmed_full[pubmed_full['flag_psych']].reset_index()\n"
   ]
  },
  {
   "cell_type": "code",
   "execution_count": 104,
   "metadata": {},
   "outputs": [],
   "source": [
    "pubmed_psyc2['tokenized_sents'] = pubmed_psyc2['abstract'].apply(lambda x: [lucem_illud_2020.word_tokenize(s) for s in lucem_illud_2020.sent_tokenize(x)])\n",
    "pubmed_psyc2['normalized_sents'] = pubmed_psyc2['tokenized_sents'].apply(lambda x: [lucem_illud_2020.normalizeTokens(s, lemma=False) for s in x])"
   ]
  },
  {
   "cell_type": "code",
   "execution_count": 105,
   "metadata": {},
   "outputs": [],
   "source": [
    "pubmed_psyc2['tokenized_words'] = pubmed_psyc2['abstract'].apply(lambda x: lucem_illud_2020.word_tokenize(x))\n",
    "pubmed_psyc2['normalized_words'] = pubmed_psyc2['tokenized_words'].apply(lambda x: lucem_illud_2020.normalizeTokens(x, lemma=False))"
   ]
  },
  {
   "cell_type": "code",
   "execution_count": 123,
   "metadata": {},
   "outputs": [],
   "source": [
    "filename = 'pubmed20n0922.xml.gz'\n",
    "psych_keywords = ['psych', 'behavior', 'neur']\n",
    "\n",
    "def isPsych(abstract, keywords):\n",
    "    return any(word in abstract for word in keywords)\n",
    "\n",
    "pubmed_parsed = pp.parse_medline_xml(\"./\" + filename)\n",
    "pubmed_df = pd.DataFrame(pubmed_parsed)\n",
    "pubmed_norm = pd.DataFrame(index=pubmed_df.index, columns=['flag_psych'], dtype=object)\n",
    "for row in pubmed_df.itertuples():\n",
    "    #flag pschology articles\n",
    "    pubmed_norm.at[row.Index, 'flag_psych'] = isPsych(row.abstract + row.title, psych_keywords)\n",
    "pubmed_full = pd.concat([pubmed_df, pubmed_norm], axis = 1)\n",
    "pubmed_psyc3 = pubmed_full[pubmed_full['flag_psych']].reset_index()\n"
   ]
  },
  {
   "cell_type": "code",
   "execution_count": 124,
   "metadata": {},
   "outputs": [],
   "source": [
    "pubmed_psyc3['tokenized_sents'] = pubmed_psyc3['abstract'].apply(lambda x: [lucem_illud_2020.word_tokenize(s) for s in lucem_illud_2020.sent_tokenize(x)])\n",
    "pubmed_psyc3['normalized_sents'] = pubmed_psyc3['tokenized_sents'].apply(lambda x: [lucem_illud_2020.normalizeTokens(s, lemma=False) for s in x])"
   ]
  },
  {
   "cell_type": "code",
   "execution_count": 125,
   "metadata": {},
   "outputs": [],
   "source": [
    "pubmed_psyc3['tokenized_words'] = pubmed_psyc3['abstract'].apply(lambda x: lucem_illud_2020.word_tokenize(x))\n",
    "pubmed_psyc3['normalized_words'] = pubmed_psyc3['tokenized_words'].apply(lambda x: lucem_illud_2020.normalizeTokens(x, lemma=False))"
   ]
  },
  {
   "cell_type": "code",
   "execution_count": 126,
   "metadata": {},
   "outputs": [],
   "source": [
    "pubmed_psyc_comb = pd.concat([pubmed_psyc, pubmed_psyc1, pubmed_psyc2, pubmed_psyc3])"
   ]
  },
  {
   "cell_type": "code",
   "execution_count": 127,
   "metadata": {},
   "outputs": [
    {
     "data": {
      "text/plain": [
       "2019    4438\n",
       "1991    2870\n",
       "1979    2147\n",
       "2017     831\n",
       "2018     397\n",
       "        ... \n",
       "1978       1\n",
       "1895       1\n",
       "2010       1\n",
       "1883       1\n",
       "1891       1\n",
       "Name: pubdate, Length: 65, dtype: int64"
      ]
     },
     "execution_count": 127,
     "metadata": {},
     "output_type": "execute_result"
    }
   ],
   "source": [
    "# check the years of these studies\n",
    "pubmed_psyc_comb.pubdate.value_counts()"
   ]
  },
  {
   "cell_type": "code",
   "execution_count": 128,
   "metadata": {},
   "outputs": [],
   "source": [
    "# select from the target years\n",
    "targetYear = ['2019', '1991', '1979', '2018', '2017']\n",
    "pubmed_psyc_years = pubmed_psyc_comb[pubmed_psyc_comb['pubdate'].isin(targetYear)]"
   ]
  },
  {
   "cell_type": "code",
   "execution_count": 69,
   "metadata": {},
   "outputs": [],
   "source": [
    "import copy"
   ]
  },
  {
   "cell_type": "code",
   "execution_count": 70,
   "metadata": {},
   "outputs": [],
   "source": [
    "def calc_syn0norm(model):\n",
    "    \"\"\"since syn0norm is now depricated\"\"\"\n",
    "    return (model.wv.syn0 / np.sqrt((model.wv.syn0 ** 2).sum(-1))[..., np.newaxis]).astype(np.float32)\n",
    "\n",
    "def smart_procrustes_align_gensim(base_embed, other_embed, words=None):\n",
    "    \"\"\"Procrustes align two gensim word2vec models (to allow for comparison between same word across models).\n",
    "    Code ported from HistWords <https://github.com/williamleif/histwords> by William Hamilton <wleif@stanford.edu>.\n",
    "    (With help from William. Thank you!)\n",
    "    First, intersect the vocabularies (see `intersection_align_gensim` documentation).\n",
    "    Then do the alignment on the other_embed model.\n",
    "    Replace the other_embed model's syn0 and syn0norm numpy matrices with the aligned version.\n",
    "    Return other_embed.\n",
    "    If `words` is set, intersect the two models' vocabulary with the vocabulary in words (see `intersection_align_gensim` documentation).\n",
    "    \"\"\"\n",
    "    base_embed = copy.copy(base_embed)\n",
    "    other_embed = copy.copy(other_embed)\n",
    "    # make sure vocabulary and indices are aligned\n",
    "    in_base_embed, in_other_embed = intersection_align_gensim(base_embed, other_embed, words=words)\n",
    "\n",
    "    # get the embedding matrices\n",
    "    base_vecs = calc_syn0norm(in_base_embed)\n",
    "    other_vecs = calc_syn0norm(in_other_embed)\n",
    "\n",
    "    # just a matrix dot product with numpy\n",
    "    m = other_vecs.T.dot(base_vecs) \n",
    "    # SVD method from numpy\n",
    "    u, _, v = np.linalg.svd(m)\n",
    "    # another matrix operation\n",
    "    ortho = u.dot(v) \n",
    "    # Replace original array with modified one\n",
    "    # i.e. multiplying the embedding matrix (syn0norm)by \"ortho\"\n",
    "    other_embed.wv.syn0norm = other_embed.wv.syn0 = (calc_syn0norm(other_embed)).dot(ortho)\n",
    "    return other_embed\n",
    "    \n",
    "def intersection_align_gensim(m1,m2, words=None):\n",
    "    \"\"\"\n",
    "    Intersect two gensim word2vec models, m1 and m2.\n",
    "    Only the shared vocabulary between them is kept.\n",
    "    If 'words' is set (as list or set), then the vocabulary is intersected with this list as well.\n",
    "    Indices are re-organized from 0..N in order of descending frequency (=sum of counts from both m1 and m2).\n",
    "    These indices correspond to the new syn0 and syn0norm objects in both gensim models:\n",
    "        -- so that Row 0 of m1.syn0 will be for the same word as Row 0 of m2.syn0\n",
    "        -- you can find the index of any word on the .index2word list: model.index2word.index(word) => 2\n",
    "    The .vocab dictionary is also updated for each model, preserving the count but updating the index.\n",
    "    \"\"\"\n",
    "\n",
    "    # Get the vocab for each model\n",
    "    vocab_m1 = set(m1.wv.vocab.keys())\n",
    "    vocab_m2 = set(m2.wv.vocab.keys())\n",
    "\n",
    "    # Find the common vocabulary\n",
    "    common_vocab = vocab_m1&vocab_m2\n",
    "    if words: common_vocab&=set(words)\n",
    "\n",
    "    # If no alignment necessary because vocab is identical...\n",
    "    if not vocab_m1-common_vocab and not vocab_m2-common_vocab:\n",
    "        return (m1,m2)\n",
    "\n",
    "    # Otherwise sort by frequency (summed for both)\n",
    "    common_vocab = list(common_vocab)\n",
    "    common_vocab.sort(key=lambda w: m1.wv.vocab[w].count + m2.wv.vocab[w].count,reverse=True)\n",
    "\n",
    "    # Then for each model...\n",
    "    for m in [m1,m2]:\n",
    "        # Replace old syn0norm array with new one (with common vocab)\n",
    "        indices = [m.wv.vocab[w].index for w in common_vocab]\n",
    "        old_arr = calc_syn0norm(m)\n",
    "        new_arr = np.array([old_arr[index] for index in indices])\n",
    "        m.wv.syn0norm = m.wv.syn0 = new_arr\n",
    "\n",
    "        # Replace old vocab dictionary with new one (with common vocab)\n",
    "        # and old index2word with new one\n",
    "        m.index2word = common_vocab\n",
    "        old_vocab = m.wv.vocab\n",
    "        new_vocab = {}\n",
    "        for new_index,word in enumerate(common_vocab):\n",
    "            old_vocab_obj=old_vocab[word]\n",
    "            new_vocab[word] = gensim.models.word2vec.Vocab(index=new_index, count=old_vocab_obj.count)\n",
    "        m.wv.vocab = new_vocab\n",
    "    \n",
    "    return (m1,m2)"
   ]
  },
  {
   "cell_type": "code",
   "execution_count": 71,
   "metadata": {},
   "outputs": [],
   "source": [
    "def compareModels(df, category, text_column_name='normalized_sents', sort = True, embeddings_raw={}):\n",
    "    \"\"\"If you are using time as your category sorting is important\"\"\"\n",
    "    if len(embeddings_raw) == 0:\n",
    "        embeddings_raw = rawModels(df, category, text_column_name, sort)\n",
    "    cats = sorted(set(df[category]))\n",
    "    #These are much quicker\n",
    "    embeddings_aligned = {}\n",
    "    for catOuter in cats:\n",
    "        embeddings_aligned[catOuter] = [embeddings_raw[catOuter]]\n",
    "        for catInner in cats:\n",
    "            embeddings_aligned[catOuter].append(smart_procrustes_align_gensim(embeddings_aligned[catOuter][-1], embeddings_raw[catInner]))\n",
    "    return embeddings_raw, embeddings_aligned\n",
    "\n",
    "def rawModels(df, category, text_column_name='normalized_sents', sort = True):\n",
    "    embeddings_raw = {}\n",
    "    cats = sorted(set(df[category]))\n",
    "    for cat in cats:\n",
    "        #This can take a while\n",
    "        print(\"Embedding {}\".format(cat), end = '\\r')\n",
    "        subsetDF = df[df[category] == cat]\n",
    "        #You might want to change the W2V parameters\n",
    "        embeddings_raw[cat] = gensim.models.word2vec.Word2Vec(subsetDF[text_column_name].sum())\n",
    "    return embeddings_raw"
   ]
  },
  {
   "cell_type": "code",
   "execution_count": 129,
   "metadata": {},
   "outputs": [
    {
     "name": "stdout",
     "output_type": "stream",
     "text": [
      "Embedding 2019\r"
     ]
    }
   ],
   "source": [
    "rawEmbeddings, comparedEmbeddings = compareModels(pubmed_psyc_years, 'pubdate')"
   ]
  },
  {
   "cell_type": "code",
   "execution_count": 130,
   "metadata": {},
   "outputs": [
    {
     "data": {
      "text/plain": [
       "dict_keys(['1979', '1991', '2017', '2018', '2019'])"
      ]
     },
     "execution_count": 130,
     "metadata": {},
     "output_type": "execute_result"
    }
   ],
   "source": [
    "rawEmbeddings.keys()"
   ]
  },
  {
   "cell_type": "code",
   "execution_count": 131,
   "metadata": {},
   "outputs": [],
   "source": [
    "def getDivergenceDF(word, embeddingsDict):\n",
    "    dists = []\n",
    "    cats = sorted(set(embeddingsDict.keys()))\n",
    "    dists = {}\n",
    "    print(word)\n",
    "    for cat in cats:\n",
    "        dists[cat] = []\n",
    "        for embed in embeddingsDict[cat][1:]:\n",
    "            dists[cat].append(np.abs(1 - sklearn.metrics.pairwise.cosine_similarity(np.expand_dims(embeddingsDict[cat][0][word], axis = 0),\n",
    "                                                                             np.expand_dims(embed[word], axis = 0))[0,0]))\n",
    "    return pandas.DataFrame(dists, index = cats)"
   ]
  },
  {
   "cell_type": "code",
   "execution_count": 132,
   "metadata": {},
   "outputs": [
    {
     "name": "stdout",
     "output_type": "stream",
     "text": [
      "depression\n"
     ]
    },
    {
     "data": {
      "image/png": "[encoded data removed]",
      "text/plain": [
       "<Figure size 720x504 with 2 Axes>"
      ]
     },
     "metadata": {
      "needs_background": "light"
     },
     "output_type": "display_data"
    }
   ],
   "source": [
    "targetWord = 'depression'\n",
    "\n",
    "pltDF = getDivergenceDF(targetWord, comparedEmbeddings)\n",
    "fig, ax = plt.subplots(figsize = (10, 7))\n",
    "seaborn.heatmap(pltDF, ax = ax, annot = False) #set annot True for a lot more information\n",
    "ax.set_xlabel(\"Starting year\")\n",
    "ax.set_ylabel(\"Final year\")\n",
    "ax.set_ylabel(\"Final year\")\n",
    "ax.set_title(\"Yearly linguistic change for: '{}'\".format(targetWord))\n",
    "plt.show()"
   ]
  },
  {
   "cell_type": "code",
   "execution_count": 114,
   "metadata": {},
   "outputs": [],
   "source": [
    "def findDiverence(word, embeddingsDict):\n",
    "    cats = sorted(set(embeddingsDict.keys()))\n",
    "    \n",
    "    dists = []\n",
    "    for embed in embeddingsDict[cats[0]][1:]:\n",
    "        dists.append(1 - sklearn.metrics.pairwise.cosine_similarity(np.expand_dims(embeddingsDict[cats[0]][0][word], axis = 0), np.expand_dims(embed[word], axis = 0))[0,0])\n",
    "    return sum(dists)\n",
    "\n",
    "def findMostDivergent(embeddingsDict):\n",
    "    words = []\n",
    "    for embeds in embeddingsDict.values():\n",
    "        for embed in embeds:\n",
    "            words += list(embed.wv.vocab.keys())\n",
    "    words = set(words)\n",
    "    print(\"Found {} words to compare\".format(len(words)))\n",
    "    return sorted([(w, findDiverence(w, embeddingsDict)) for w in words], key = lambda x: x[1], reverse=True)\n",
    "    "
   ]
  },
  {
   "cell_type": "code",
   "execution_count": 134,
   "metadata": {},
   "outputs": [
    {
     "name": "stdout",
     "output_type": "stream",
     "text": [
      "Found 1619 words to compare\n"
     ]
    }
   ],
   "source": [
    "wordDivergences = findMostDivergent(comparedEmbeddings)"
   ]
  },
  {
   "cell_type": "markdown",
   "metadata": {},
   "source": [
    "The most divergent words are:"
   ]
  },
  {
   "cell_type": "code",
   "execution_count": 135,
   "metadata": {},
   "outputs": [
    {
     "data": {
      "text/plain": [
       "[('mg', 0.9450452327728271),\n",
       " ('=', 0.9196750223636627),\n",
       " ('kg', 0.9054460525512695),\n",
       " ('n', 0.8841544389724731),\n",
       " ('p', 0.7191071808338165),\n",
       " ('system', 0.6636738181114197),\n",
       " ('group', 0.663146436214447),\n",
       " ('nervous', 0.6027410626411438),\n",
       " ('cell', 0.5881864428520203),\n",
       " ('analysis', 0.5819232165813446),\n",
       " ('+', 0.5793361663818359),\n",
       " ('cells', 0.577818751335144),\n",
       " ('rats', 0.5761454105377197),\n",
       " ('day', 0.5712363123893738),\n",
       " ('disease', 0.5698440372943878),\n",
       " ('studies', 0.5642511546611786),\n",
       " ('cancer', 0.5584787130355835),\n",
       " ('age', 0.5575647354125977),\n",
       " ('long', 0.5545349419116974),\n",
       " ('days', 0.5539077520370483)]"
      ]
     },
     "execution_count": 135,
     "metadata": {},
     "output_type": "execute_result"
    }
   ],
   "source": [
    "wordDivergences[:20]"
   ]
  },
  {
   "cell_type": "markdown",
   "metadata": {},
   "source": [
    "The least divergent words are:"
   ]
  },
  {
   "cell_type": "code",
   "execution_count": 136,
   "metadata": {},
   "outputs": [
    {
     "data": {
      "text/plain": [
       "[('led', 0.022906601428985596),\n",
       " ('products', 0.0226670503616333),\n",
       " ('substantial', 0.02259206771850586),\n",
       " ('example', 0.0222284197807312),\n",
       " ('attributed', 0.021842598915100098),\n",
       " ('variability', 0.02151423692703247),\n",
       " ('appear', 0.02133733034133911),\n",
       " ('joint', 0.021084487438201904),\n",
       " ('explained', 0.01958709955215454),\n",
       " ('depending', 0.01937311887741089),\n",
       " ('rarely', 0.018023669719696045),\n",
       " ('sufficient', 0.01793903112411499),\n",
       " ('defined', 0.01779043674468994),\n",
       " ('appears', 0.016987740993499756),\n",
       " ('appeared', 0.016909122467041016),\n",
       " ('contact', 0.01683628559112549),\n",
       " ('respect', 0.01620960235595703),\n",
       " ('regardless', 0.01520991325378418),\n",
       " ('sense', 0.014138877391815186),\n",
       " ('extent', 0.013745784759521484)]"
      ]
     },
     "execution_count": 136,
     "metadata": {},
     "output_type": "execute_result"
    }
   ],
   "source": [
    "wordDivergences[-20:]"
   ]
  },
  {
   "cell_type": "code",
   "execution_count": 137,
   "metadata": {},
   "outputs": [
    {
     "name": "stdout",
     "output_type": "stream",
     "text": [
      "alzheimer\n"
     ]
    },
    {
     "data": {
      "image/png": "[encoded data removed]",
      "text/plain": [
       "<Figure size 720x504 with 2 Axes>"
      ]
     },
     "metadata": {
      "needs_background": "light"
     },
     "output_type": "display_data"
    }
   ],
   "source": [
    "targetWord = 'alzheimer'\n",
    "\n",
    "pltDF = getDivergenceDF(targetWord, comparedEmbeddings)\n",
    "fig, ax = plt.subplots(figsize = (10, 7))\n",
    "seaborn.heatmap(pltDF, ax = ax, annot = False) #set annot True for a lot more information\n",
    "ax.set_xlabel(\"Starting year\")\n",
    "ax.set_ylabel(\"Final year\")\n",
    "ax.set_ylabel(\"Final year\")\n",
    "ax.set_title(\"Yearly linguistic change for: '{}'\".format(targetWord))\n",
    "plt.show()"
   ]
  },
  {
   "cell_type": "code",
   "execution_count": 138,
   "metadata": {},
   "outputs": [
    {
     "name": "stdout",
     "output_type": "stream",
     "text": [
      "therapy\n"
     ]
    },
    {
     "data": {
      "image/png": "[encoded data removed]",
      "text/plain": [
       "<Figure size 720x504 with 2 Axes>"
      ]
     },
     "metadata": {
      "needs_background": "light"
     },
     "output_type": "display_data"
    }
   ],
   "source": [
    "targetWord = 'therapy'\n",
    "\n",
    "pltDF = getDivergenceDF(targetWord, comparedEmbeddings)\n",
    "fig, ax = plt.subplots(figsize = (10, 7))\n",
    "seaborn.heatmap(pltDF, ax = ax, annot = False) #set annot True for a lot more information\n",
    "ax.set_xlabel(\"Starting year\")\n",
    "ax.set_ylabel(\"Final year\")\n",
    "ax.set_ylabel(\"Final year\")\n",
    "ax.set_title(\"Yearly linguistic change for: '{}'\".format(targetWord))\n",
    "plt.show()"
   ]
  },
  {
   "cell_type": "code",
   "execution_count": 139,
   "metadata": {},
   "outputs": [
    {
     "name": "stdout",
     "output_type": "stream",
     "text": [
      "dopamine\n"
     ]
    },
    {
     "data": {
      "image/png": "[encoded data removed]",
      "text/plain": [
       "<Figure size 720x504 with 2 Axes>"
      ]
     },
     "metadata": {
      "needs_background": "light"
     },
     "output_type": "display_data"
    }
   ],
   "source": [
    "targetWord = 'dopamine'\n",
    "\n",
    "pltDF = getDivergenceDF(targetWord, comparedEmbeddings)\n",
    "fig, ax = plt.subplots(figsize = (10, 7))\n",
    "seaborn.heatmap(pltDF, ax = ax, annot = False) #set annot True for a lot more information\n",
    "ax.set_xlabel(\"Starting year\")\n",
    "ax.set_ylabel(\"Final year\")\n",
    "ax.set_ylabel(\"Final year\")\n",
    "ax.set_title(\"Yearly linguistic change for: '{}'\".format(targetWord))\n",
    "plt.show()"
   ]
  },
  {
   "cell_type": "markdown",
   "metadata": {},
   "source": [
    "From observing the linguistic change overtime for different words, we can see that there is a high consistency from 1979 to 2018, and a big divergence between these years with 2019. This could mean that the topics, methods and significant progress has been made in 2019 so that words carry different meanings in 2019. Whether it marked a paradigm shift or simply a different writing style in 2019 deserves further investigation."
   ]
  }
 ],
 "metadata": {
  "kernelspec": {
   "display_name": "Python 3",
   "language": "python",
   "name": "python3"
  },
  "language_info": {
   "codemirror_mode": {
    "name": "ipython",
    "version": 3
   },
   "file_extension": ".py",
   "mimetype": "text/x-python",
   "name": "python",
   "nbconvert_exporter": "python",
   "pygments_lexer": "ipython3",
   "version": "3.7.3"
  }
 },
 "nbformat": 4,
 "nbformat_minor": 4
}
